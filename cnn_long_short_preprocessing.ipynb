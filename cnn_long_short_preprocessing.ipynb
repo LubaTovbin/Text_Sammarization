{
 "cells": [
  {
   "cell_type": "code",
   "execution_count": 21,
   "metadata": {},
   "outputs": [],
   "source": [
    "file_cnn_long_in = open(r'C:\\Users\\Luba Tovbin\\Desktop\\MS_CMPE\\CMPE-295B\\CNN_long\\inputs-210000-.dev.txt',\n",
    "                        'r', encoding=\"mbcs\")\n",
    "file_cnn_long_out = open(r'C:\\Users\\Luba Tovbin\\Desktop\\MS_CMPE\\CMPE-295B\\CNN_long\\predictions-210000-.dev.txt',\n",
    "                         'r', encoding=\"mbcs\")\n",
    "\n",
    "file_cnn_short_in = open(r'C:\\Users\\Luba Tovbin\\Desktop\\MS_CMPE\\CMPE-295B\\CNN_short\\inputs-210000-.dev.txt',\n",
    "                        'r', encoding=\"mbcs\")\n",
    "file_cnn_short_out = open(r'C:\\Users\\Luba Tovbin\\Desktop\\MS_CMPE\\CMPE-295B\\CNN_short\\predictions-210000-.dev.txt',\n",
    "                         'r', encoding=\"mbcs\")\n",
    "\n",
    "long_in   = file_cnn_long_in.readlines()\n",
    "long_out  = file_cnn_long_out.readlines()\n",
    "short_in  = file_cnn_short_in.readlines()\n",
    "short_out = file_cnn_short_out.readlines()\n",
    "\n",
    "file_cnn_long_in.close()\n",
    "file_cnn_long_out.close()\n",
    "file_cnn_short_in.close()\n",
    "file_cnn_short_out.close()"
   ]
  },
  {
   "cell_type": "code",
   "execution_count": 37,
   "metadata": {},
   "outputs": [],
   "source": [
    "# create inputs for long\n",
    "with open(r'C:\\Users\\Luba Tovbin\\Desktop\\MS_CMPE\\CMPE-295B\\CNN_long\\cnn_inputs_long.txt',\n",
    "          'w', encoding=\"mbcs\") as f:\n",
    "    for line in long_in:\n",
    "        if line[0] != '-' and line[0] != '[':\n",
    "            f.write('Long. ' + line)        "
   ]
  },
  {
   "cell_type": "code",
   "execution_count": 38,
   "metadata": {},
   "outputs": [],
   "source": [
    "# create outputs for long\n",
    "# here, one output may contain the new line characters. We have to preprocess, so each entry is one line.\n",
    "line2write = ''\n",
    "with open(r'C:\\Users\\Luba Tovbin\\Desktop\\MS_CMPE\\CMPE-295B\\CNN_long\\cnn_outputs_long.txt',\n",
    "          'w', encoding=\"mbcs\") as f:\n",
    "    for line in long_out:\n",
    "        if line[0] == '-':\n",
    "            f.write(line2write)\n",
    "            line2write = ''\n",
    "        else:\n",
    "            line2write = line2write.strip('\\n') + ' ' + line   \n",
    "    f.write(line2write)"
   ]
  },
  {
   "cell_type": "code",
   "execution_count": 39,
   "metadata": {},
   "outputs": [],
   "source": [
    "# create inputs for short\n",
    "with open(r'C:\\Users\\Luba Tovbin\\Desktop\\MS_CMPE\\CMPE-295B\\CNN_short\\cnn_inputs_short.txt',\n",
    "          'w', encoding=\"mbcs\") as f:\n",
    "    for line in short_in:\n",
    "        if line[0] != '-' and line[0] != '[':\n",
    "            f.write('Short. ' + line)"
   ]
  },
  {
   "cell_type": "code",
   "execution_count": 40,
   "metadata": {},
   "outputs": [],
   "source": [
    "# create outputs for short\n",
    "line2write = ''\n",
    "with open(r'C:\\Users\\Luba Tovbin\\Desktop\\MS_CMPE\\CMPE-295B\\CNN_short\\cnn_outputs_short.txt',\n",
    "          'w', encoding=\"mbcs\") as f:\n",
    "    for line in short_out:\n",
    "        if line[0] == '-':\n",
    "            f.write(line2write)\n",
    "            line2write = ''\n",
    "        else:\n",
    "            line2write = line2write.strip('\\n') + ' ' + line   \n",
    "    f.write(line2write)"
   ]
  },
  {
   "cell_type": "code",
   "execution_count": 41,
   "metadata": {},
   "outputs": [],
   "source": [
    "file_cnn_long_in = open(r'C:\\Users\\Luba Tovbin\\Desktop\\MS_CMPE\\CMPE-295B\\CNN_long\\cnn_inputs_long.txt',\n",
    "                        'r', encoding=\"mbcs\")\n",
    "file_cnn_long_out = open(r'C:\\Users\\Luba Tovbin\\Desktop\\MS_CMPE\\CMPE-295B\\CNN_long\\cnn_outputs_long.txt',\n",
    "                         'r', encoding=\"mbcs\")\n",
    "\n",
    "file_cnn_short_in = open(r'C:\\Users\\Luba Tovbin\\Desktop\\MS_CMPE\\CMPE-295B\\CNN_short\\cnn_inputs_short.txt',\n",
    "                        'r', encoding=\"mbcs\")\n",
    "file_cnn_short_out = open(r'C:\\Users\\Luba Tovbin\\Desktop\\MS_CMPE\\CMPE-295B\\CNN_short\\cnn_outputs_short.txt',\n",
    "                         'r', encoding=\"mbcs\")\n",
    "\n",
    "l_in   = file_cnn_long_in.readlines()\n",
    "l_out  = file_cnn_long_out.readlines()\n",
    "s_in  = file_cnn_short_in.readlines()\n",
    "s_out = file_cnn_short_out.readlines()\n",
    "\n",
    "file_cnn_long_in.close()\n",
    "file_cnn_long_out.close()\n",
    "file_cnn_short_in.close()\n",
    "file_cnn_short_out.close()"
   ]
  },
  {
   "cell_type": "code",
   "execution_count": 42,
   "metadata": {},
   "outputs": [],
   "source": [
    "import pandas as pd\n",
    "import matplotlib.pyplot as plt"
   ]
  },
  {
   "cell_type": "code",
   "execution_count": 43,
   "metadata": {},
   "outputs": [
    {
     "data": {
      "text/plain": [
       "1000"
      ]
     },
     "execution_count": 43,
     "metadata": {},
     "output_type": "execute_result"
    }
   ],
   "source": [
    "len(l_out)"
   ]
  },
  {
   "cell_type": "code",
   "execution_count": 44,
   "metadata": {},
   "outputs": [
    {
     "data": {
      "text/plain": [
       "\" Sally Forrest, an actress-dancer who graced the silver screen throughout the '40s and '50s in MGM musicals and films such as the 1956 noir While the City Sleeps died on March 15 at her home in Beverly Hills, California .\\n\""
      ]
     },
     "execution_count": 44,
     "metadata": {},
     "output_type": "execute_result"
    }
   ],
   "source": [
    "l_out[0]"
   ]
  },
  {
   "cell_type": "code",
   "execution_count": 45,
   "metadata": {},
   "outputs": [
    {
     "data": {
      "text/plain": [
       "222"
      ]
     },
     "execution_count": 45,
     "metadata": {},
     "output_type": "execute_result"
    }
   ],
   "source": [
    "len(l_out[0])"
   ]
  },
  {
   "cell_type": "code",
   "execution_count": 46,
   "metadata": {},
   "outputs": [],
   "source": [
    "l_out_len = [len(x.split(' ')) for x in l_out]\n",
    "s_out_len = [len(x.split(' ')) for x in s_out]"
   ]
  },
  {
   "cell_type": "code",
   "execution_count": 47,
   "metadata": {},
   "outputs": [
    {
     "data": {
      "text/plain": [
       "62.433"
      ]
     },
     "execution_count": 47,
     "metadata": {},
     "output_type": "execute_result"
    }
   ],
   "source": [
    "import statistics\n",
    "\n",
    "statistics.mean(l_out_len)"
   ]
  },
  {
   "cell_type": "code",
   "execution_count": 48,
   "metadata": {},
   "outputs": [
    {
     "data": {
      "text/plain": [
       "37.546"
      ]
     },
     "execution_count": 48,
     "metadata": {},
     "output_type": "execute_result"
    }
   ],
   "source": [
    "statistics.mean(s_out_len)"
   ]
  },
  {
   "cell_type": "code",
   "execution_count": 49,
   "metadata": {},
   "outputs": [
    {
     "data": {
      "text/plain": [
       "(array([  9.,  44.,  59.,  66., 106., 130., 216., 189., 141.,  40.]),\n",
       " array([ 5. , 10.4, 15.8, 21.2, 26.6, 32. , 37.4, 42.8, 48.2, 53.6, 59. ]),\n",
       " <BarContainer object of 10 artists>)"
      ]
     },
     "execution_count": 49,
     "metadata": {},
     "output_type": "execute_result"
    },
    {
     "data": {
      "image/png": "[encoded data removed]",
      "text/plain": [
       "<Figure size 432x288 with 1 Axes>"
      ]
     },
     "metadata": {
      "needs_background": "light"
     },
     "output_type": "display_data"
    }
   ],
   "source": [
    "plt.hist(l_out_len)\n",
    "plt.hist(s_out_len)"
   ]
  },
  {
   "cell_type": "code",
   "execution_count": 51,
   "metadata": {},
   "outputs": [
    {
     "data": {
      "text/plain": [
       "906"
      ]
     },
     "execution_count": 51,
     "metadata": {},
     "output_type": "execute_result"
    },
    {
     "data": {
      "image/png": "[encoded data removed]",
      "text/plain": [
       "<Figure size 432x288 with 1 Axes>"
      ]
     },
     "metadata": {
      "needs_background": "light"
     },
     "output_type": "display_data"
    }
   ],
   "source": [
    "l_in_len = [len(x.split(' ')) for x in l_in]\n",
    "s_in_len = [len(x.split(' ')) for x in s_in]\n",
    "plt.hist(l_in_len)\n",
    "#plt.hist(s_in_len)\n",
    "max(l_in_len)"
   ]
  },
  {
   "cell_type": "code",
   "execution_count": 52,
   "metadata": {},
   "outputs": [],
   "source": [
    "l_df = pd.DataFrame({'text':l_in, 'target':l_out})\n",
    "s_df = pd.DataFrame({'text':s_in, 'target':s_out})"
   ]
  },
  {
   "cell_type": "code",
   "execution_count": 53,
   "metadata": {},
   "outputs": [
    {
     "data": {
      "text/html": [
       "<div>\n",
       "<style scoped>\n",
       "    .dataframe tbody tr th:only-of-type {\n",
       "        vertical-align: middle;\n",
       "    }\n",
       "\n",
       "    .dataframe tbody tr th {\n",
       "        vertical-align: top;\n",
       "    }\n",
       "\n",
       "    .dataframe thead th {\n",
       "        text-align: right;\n",
       "    }\n",
       "</style>\n",
       "<table border=\"1\" class=\"dataframe\">\n",
       "  <thead>\n",
       "    <tr style=\"text-align: right;\">\n",
       "      <th></th>\n",
       "      <th>text</th>\n",
       "      <th>target</th>\n",
       "    </tr>\n",
       "  </thead>\n",
       "  <tbody>\n",
       "    <tr>\n",
       "      <th>0</th>\n",
       "      <td>Long. Sally Forrest, an actress-dancer who gra...</td>\n",
       "      <td>Sally Forrest, an actress-dancer who graced t...</td>\n",
       "    </tr>\n",
       "    <tr>\n",
       "      <th>1</th>\n",
       "      <td>Long. A middle-school teacher in China has ink...</td>\n",
       "      <td>Wang Lian, 35, has drawn hundreds of drawings...</td>\n",
       "    </tr>\n",
       "    <tr>\n",
       "      <th>2</th>\n",
       "      <td>Long. A man convicted of killing the father an...</td>\n",
       "      <td>Iftekhar Murtaza, 30, was sentenced for the m...</td>\n",
       "    </tr>\n",
       "    <tr>\n",
       "      <th>3</th>\n",
       "      <td>Long. Avid rugby fan Prince Harry could barely...</td>\n",
       "      <td>The fourth-in-line to the throne squirmed in ...</td>\n",
       "    </tr>\n",
       "    <tr>\n",
       "      <th>4</th>\n",
       "      <td>Long. A Triple M Radio producer has been inund...</td>\n",
       "      <td>Triple M Radio producer Nick Slater was flood...</td>\n",
       "    </tr>\n",
       "  </tbody>\n",
       "</table>\n",
       "</div>"
      ],
      "text/plain": [
       "                                                text  \\\n",
       "0  Long. Sally Forrest, an actress-dancer who gra...   \n",
       "1  Long. A middle-school teacher in China has ink...   \n",
       "2  Long. A man convicted of killing the father an...   \n",
       "3  Long. Avid rugby fan Prince Harry could barely...   \n",
       "4  Long. A Triple M Radio producer has been inund...   \n",
       "\n",
       "                                              target  \n",
       "0   Sally Forrest, an actress-dancer who graced t...  \n",
       "1   Wang Lian, 35, has drawn hundreds of drawings...  \n",
       "2   Iftekhar Murtaza, 30, was sentenced for the m...  \n",
       "3   The fourth-in-line to the throne squirmed in ...  \n",
       "4   Triple M Radio producer Nick Slater was flood...  "
      ]
     },
     "execution_count": 53,
     "metadata": {},
     "output_type": "execute_result"
    }
   ],
   "source": [
    "l_df.head()"
   ]
  },
  {
   "cell_type": "code",
   "execution_count": 58,
   "metadata": {},
   "outputs": [],
   "source": [
    "l_df['length']=l_df['text'].str.slice(0,5)"
   ]
  },
  {
   "cell_type": "code",
   "execution_count": 59,
   "metadata": {},
   "outputs": [
    {
     "data": {
      "text/html": [
       "<div>\n",
       "<style scoped>\n",
       "    .dataframe tbody tr th:only-of-type {\n",
       "        vertical-align: middle;\n",
       "    }\n",
       "\n",
       "    .dataframe tbody tr th {\n",
       "        vertical-align: top;\n",
       "    }\n",
       "\n",
       "    .dataframe thead th {\n",
       "        text-align: right;\n",
       "    }\n",
       "</style>\n",
       "<table border=\"1\" class=\"dataframe\">\n",
       "  <thead>\n",
       "    <tr style=\"text-align: right;\">\n",
       "      <th></th>\n",
       "      <th>text</th>\n",
       "      <th>target</th>\n",
       "      <th>length</th>\n",
       "    </tr>\n",
       "  </thead>\n",
       "  <tbody>\n",
       "    <tr>\n",
       "      <th>0</th>\n",
       "      <td>Long. Sally Forrest, an actress-dancer who gra...</td>\n",
       "      <td>Sally Forrest, an actress-dancer who graced t...</td>\n",
       "      <td>Long.</td>\n",
       "    </tr>\n",
       "    <tr>\n",
       "      <th>1</th>\n",
       "      <td>Long. A middle-school teacher in China has ink...</td>\n",
       "      <td>Wang Lian, 35, has drawn hundreds of drawings...</td>\n",
       "      <td>Long.</td>\n",
       "    </tr>\n",
       "    <tr>\n",
       "      <th>2</th>\n",
       "      <td>Long. A man convicted of killing the father an...</td>\n",
       "      <td>Iftekhar Murtaza, 30, was sentenced for the m...</td>\n",
       "      <td>Long.</td>\n",
       "    </tr>\n",
       "    <tr>\n",
       "      <th>3</th>\n",
       "      <td>Long. Avid rugby fan Prince Harry could barely...</td>\n",
       "      <td>The fourth-in-line to the throne squirmed in ...</td>\n",
       "      <td>Long.</td>\n",
       "    </tr>\n",
       "    <tr>\n",
       "      <th>4</th>\n",
       "      <td>Long. A Triple M Radio producer has been inund...</td>\n",
       "      <td>Triple M Radio producer Nick Slater was flood...</td>\n",
       "      <td>Long.</td>\n",
       "    </tr>\n",
       "  </tbody>\n",
       "</table>\n",
       "</div>"
      ],
      "text/plain": [
       "                                                text  \\\n",
       "0  Long. Sally Forrest, an actress-dancer who gra...   \n",
       "1  Long. A middle-school teacher in China has ink...   \n",
       "2  Long. A man convicted of killing the father an...   \n",
       "3  Long. Avid rugby fan Prince Harry could barely...   \n",
       "4  Long. A Triple M Radio producer has been inund...   \n",
       "\n",
       "                                              target length  \n",
       "0   Sally Forrest, an actress-dancer who graced t...  Long.  \n",
       "1   Wang Lian, 35, has drawn hundreds of drawings...  Long.  \n",
       "2   Iftekhar Murtaza, 30, was sentenced for the m...  Long.  \n",
       "3   The fourth-in-line to the throne squirmed in ...  Long.  \n",
       "4   Triple M Radio producer Nick Slater was flood...  Long.  "
      ]
     },
     "execution_count": 59,
     "metadata": {},
     "output_type": "execute_result"
    }
   ],
   "source": [
    "l_df.head()"
   ]
  },
  {
   "cell_type": "code",
   "execution_count": 60,
   "metadata": {},
   "outputs": [
    {
     "data": {
      "text/plain": [
       "array(['Long.'], dtype=object)"
      ]
     },
     "execution_count": 60,
     "metadata": {},
     "output_type": "execute_result"
    }
   ],
   "source": [
    "l_df['length'].unique()"
   ]
  },
  {
   "cell_type": "code",
   "execution_count": 62,
   "metadata": {},
   "outputs": [],
   "source": [
    "l_df['text_len']= [ len(x.split(' ')) for x in l_df['text']]"
   ]
  },
  {
   "cell_type": "code",
   "execution_count": 63,
   "metadata": {},
   "outputs": [
    {
     "data": {
      "text/html": [
       "<div>\n",
       "<style scoped>\n",
       "    .dataframe tbody tr th:only-of-type {\n",
       "        vertical-align: middle;\n",
       "    }\n",
       "\n",
       "    .dataframe tbody tr th {\n",
       "        vertical-align: top;\n",
       "    }\n",
       "\n",
       "    .dataframe thead th {\n",
       "        text-align: right;\n",
       "    }\n",
       "</style>\n",
       "<table border=\"1\" class=\"dataframe\">\n",
       "  <thead>\n",
       "    <tr style=\"text-align: right;\">\n",
       "      <th></th>\n",
       "      <th>text</th>\n",
       "      <th>target</th>\n",
       "      <th>length</th>\n",
       "      <th>text_len</th>\n",
       "    </tr>\n",
       "  </thead>\n",
       "  <tbody>\n",
       "    <tr>\n",
       "      <th>0</th>\n",
       "      <td>Long. Sally Forrest, an actress-dancer who gra...</td>\n",
       "      <td>Sally Forrest, an actress-dancer who graced t...</td>\n",
       "      <td>Long.</td>\n",
       "      <td>265</td>\n",
       "    </tr>\n",
       "    <tr>\n",
       "      <th>1</th>\n",
       "      <td>Long. A middle-school teacher in China has ink...</td>\n",
       "      <td>Wang Lian, 35, has drawn hundreds of drawings...</td>\n",
       "      <td>Long.</td>\n",
       "      <td>552</td>\n",
       "    </tr>\n",
       "    <tr>\n",
       "      <th>2</th>\n",
       "      <td>Long. A man convicted of killing the father an...</td>\n",
       "      <td>Iftekhar Murtaza, 30, was sentenced for the m...</td>\n",
       "      <td>Long.</td>\n",
       "      <td>466</td>\n",
       "    </tr>\n",
       "    <tr>\n",
       "      <th>3</th>\n",
       "      <td>Long. Avid rugby fan Prince Harry could barely...</td>\n",
       "      <td>The fourth-in-line to the throne squirmed in ...</td>\n",
       "      <td>Long.</td>\n",
       "      <td>581</td>\n",
       "    </tr>\n",
       "    <tr>\n",
       "      <th>4</th>\n",
       "      <td>Long. A Triple M Radio producer has been inund...</td>\n",
       "      <td>Triple M Radio producer Nick Slater was flood...</td>\n",
       "      <td>Long.</td>\n",
       "      <td>339</td>\n",
       "    </tr>\n",
       "  </tbody>\n",
       "</table>\n",
       "</div>"
      ],
      "text/plain": [
       "                                                text  \\\n",
       "0  Long. Sally Forrest, an actress-dancer who gra...   \n",
       "1  Long. A middle-school teacher in China has ink...   \n",
       "2  Long. A man convicted of killing the father an...   \n",
       "3  Long. Avid rugby fan Prince Harry could barely...   \n",
       "4  Long. A Triple M Radio producer has been inund...   \n",
       "\n",
       "                                              target length  text_len  \n",
       "0   Sally Forrest, an actress-dancer who graced t...  Long.       265  \n",
       "1   Wang Lian, 35, has drawn hundreds of drawings...  Long.       552  \n",
       "2   Iftekhar Murtaza, 30, was sentenced for the m...  Long.       466  \n",
       "3   The fourth-in-line to the throne squirmed in ...  Long.       581  \n",
       "4   Triple M Radio producer Nick Slater was flood...  Long.       339  "
      ]
     },
     "execution_count": 63,
     "metadata": {},
     "output_type": "execute_result"
    }
   ],
   "source": [
    "l_df.head()"
   ]
  },
  {
   "cell_type": "code",
   "execution_count": 66,
   "metadata": {},
   "outputs": [
    {
     "data": {
      "text/html": [
       "<div>\n",
       "<style scoped>\n",
       "    .dataframe tbody tr th:only-of-type {\n",
       "        vertical-align: middle;\n",
       "    }\n",
       "\n",
       "    .dataframe tbody tr th {\n",
       "        vertical-align: top;\n",
       "    }\n",
       "\n",
       "    .dataframe thead th {\n",
       "        text-align: right;\n",
       "    }\n",
       "</style>\n",
       "<table border=\"1\" class=\"dataframe\">\n",
       "  <thead>\n",
       "    <tr style=\"text-align: right;\">\n",
       "      <th></th>\n",
       "      <th>text</th>\n",
       "      <th>target</th>\n",
       "      <th>length</th>\n",
       "    </tr>\n",
       "  </thead>\n",
       "  <tbody>\n",
       "    <tr>\n",
       "      <th>0</th>\n",
       "      <td>Short. Sally Forrest, an actress-dancer who gr...</td>\n",
       "      <td>Sally Forrest, whose birth name was Katherine...</td>\n",
       "      <td>Short.</td>\n",
       "    </tr>\n",
       "    <tr>\n",
       "      <th>1</th>\n",
       "      <td>Short. A middle-school teacher in China has in...</td>\n",
       "      <td>Politics teacher Wang Lian, 35, has created 1...</td>\n",
       "      <td>Short.</td>\n",
       "    </tr>\n",
       "    <tr>\n",
       "      <th>2</th>\n",
       "      <td>Short. A man convicted of killing the father a...</td>\n",
       "      <td>Iftekhar Murtaza, 30, was sentenced to death ...</td>\n",
       "      <td>Short.</td>\n",
       "    </tr>\n",
       "    <tr>\n",
       "      <th>3</th>\n",
       "      <td>Short. Avid rugby fan Prince Harry could barel...</td>\n",
       "      <td>Fourth-in-line to the throne squirmed in his ...</td>\n",
       "      <td>Short.</td>\n",
       "    </tr>\n",
       "    <tr>\n",
       "      <th>4</th>\n",
       "      <td>Short. A Triple M Radio producer has been inun...</td>\n",
       "      <td>Triple M producer Nick Slater was flooded wit...</td>\n",
       "      <td>Short.</td>\n",
       "    </tr>\n",
       "  </tbody>\n",
       "</table>\n",
       "</div>"
      ],
      "text/plain": [
       "                                                text  \\\n",
       "0  Short. Sally Forrest, an actress-dancer who gr...   \n",
       "1  Short. A middle-school teacher in China has in...   \n",
       "2  Short. A man convicted of killing the father a...   \n",
       "3  Short. Avid rugby fan Prince Harry could barel...   \n",
       "4  Short. A Triple M Radio producer has been inun...   \n",
       "\n",
       "                                              target  length  \n",
       "0   Sally Forrest, whose birth name was Katherine...  Short.  \n",
       "1   Politics teacher Wang Lian, 35, has created 1...  Short.  \n",
       "2   Iftekhar Murtaza, 30, was sentenced to death ...  Short.  \n",
       "3   Fourth-in-line to the throne squirmed in his ...  Short.  \n",
       "4   Triple M producer Nick Slater was flooded wit...  Short.  "
      ]
     },
     "execution_count": 66,
     "metadata": {},
     "output_type": "execute_result"
    }
   ],
   "source": [
    "s_df['length']=s_df['text'].str.slice(0,6)\n",
    "s_df.head()"
   ]
  },
  {
   "cell_type": "code",
   "execution_count": 67,
   "metadata": {},
   "outputs": [
    {
     "data": {
      "text/plain": [
       "array(['Short.'], dtype=object)"
      ]
     },
     "execution_count": 67,
     "metadata": {},
     "output_type": "execute_result"
    }
   ],
   "source": [
    "s_df['length'].unique()"
   ]
  },
  {
   "cell_type": "code",
   "execution_count": 68,
   "metadata": {},
   "outputs": [
    {
     "data": {
      "text/plain": [
       "[1, 3]"
      ]
     },
     "execution_count": 68,
     "metadata": {},
     "output_type": "execute_result"
    }
   ],
   "source": [
    "l=[1,3]\n",
    "l[:10]"
   ]
  },
  {
   "cell_type": "code",
   "execution_count": null,
   "metadata": {},
   "outputs": [],
   "source": []
  },
  {
   "cell_type": "code",
   "execution_count": null,
   "metadata": {},
   "outputs": [],
   "source": []
  }
 ],
 "metadata": {
  "kernelspec": {
   "display_name": "Python 3",
   "language": "python",
   "name": "python3"
  },
  "language_info": {
   "codemirror_mode": {
    "name": "ipython",
    "version": 3
   },
   "file_extension": ".py",
   "mimetype": "text/x-python",
   "name": "python",
   "nbconvert_exporter": "python",
   "pygments_lexer": "ipython3",
   "version": "3.7.1"
  }
 },
 "nbformat": 4,
 "nbformat_minor": 4
}
