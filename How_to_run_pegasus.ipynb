{
  "nbformat": 4,
  "nbformat_minor": 0,
  "metadata": {
    "colab": {
      "name": "How_to_run_pegasus.ipynb",
      "provenance": [],
      "collapsed_sections": []
    },
    "kernelspec": {
      "name": "python3",
      "display_name": "Python 3"
    }
  },
  "cells": [
    {
      "cell_type": "code",
      "metadata": {
        "id": "kyGIQdTa0T9Z",
        "colab_type": "code",
        "colab": {
          "base_uri": "https://localhost:8080/",
          "height": 34
        },
        "outputId": "d959e1a1-73d6-4e28-a287-9012b18cab87"
      },
      "source": [
        "from google.colab import drive\n",
        "drive.mount('/content/drive/')"
      ],
      "execution_count": 1,
      "outputs": [
        {
          "output_type": "stream",
          "text": [
            "Mounted at /content/drive/\n"
          ],
          "name": "stdout"
        }
      ]
    },
    {
      "cell_type": "code",
      "metadata": {
        "id": "FVm5IXL_0mFr",
        "colab_type": "code",
        "colab": {
          "base_uri": "https://localhost:8080/",
          "height": 34
        },
        "outputId": "89512cde-14fb-442c-e0e5-5c5609976838"
      },
      "source": [
        "!pwd"
      ],
      "execution_count": 2,
      "outputs": [
        {
          "output_type": "stream",
          "text": [
            "/content\n"
          ],
          "name": "stdout"
        }
      ]
    },
    {
      "cell_type": "code",
      "metadata": {
        "id": "IfxbAgqZ0yqO",
        "colab_type": "code",
        "colab": {
          "base_uri": "https://localhost:8080/",
          "height": 34
        },
        "outputId": "ac913665-7ceb-4e2a-e746-ff55a1d57dd0"
      },
      "source": [
        "%cd drive/My\\ Drive/"
      ],
      "execution_count": 3,
      "outputs": [
        {
          "output_type": "stream",
          "text": [
            "/content/drive/My Drive\n"
          ],
          "name": "stdout"
        }
      ]
    },
    {
      "cell_type": "code",
      "metadata": {
        "id": "Vf1OY3QY08vS",
        "colab_type": "code",
        "colab": {}
      },
      "source": [
        "!mkdir Text_Summarization_Code"
      ],
      "execution_count": 4,
      "outputs": []
    },
    {
      "cell_type": "code",
      "metadata": {
        "id": "FYJl0iI01CRl",
        "colab_type": "code",
        "colab": {
          "base_uri": "https://localhost:8080/",
          "height": 34
        },
        "outputId": "e6465c84-1b84-4b28-ebb5-2314e2ff4b22"
      },
      "source": [
        "%cd Text_Summarization_Code"
      ],
      "execution_count": 6,
      "outputs": [
        {
          "output_type": "stream",
          "text": [
            "/content/drive/My Drive/Text_Summarization_Code1\n"
          ],
          "name": "stdout"
        }
      ]
    },
    {
      "cell_type": "code",
      "metadata": {
        "id": "ZADC9uJJ1E1Z",
        "colab_type": "code",
        "colab": {}
      },
      "source": [
        "!mkdir my_pegasus"
      ],
      "execution_count": 7,
      "outputs": []
    },
    {
      "cell_type": "code",
      "metadata": {
        "id": "11MWDU_m1LMb",
        "colab_type": "code",
        "colab": {
          "base_uri": "https://localhost:8080/",
          "height": 34
        },
        "outputId": "fa86f3bf-37c9-4415-bf3b-a6f20d6f7716"
      },
      "source": [
        "%cd my_pegasus/"
      ],
      "execution_count": 8,
      "outputs": [
        {
          "output_type": "stream",
          "text": [
            "/content/drive/My Drive/Text_Summarization_Code1/my_pegasus\n"
          ],
          "name": "stdout"
        }
      ]
    },
    {
      "cell_type": "code",
      "metadata": {
        "id": "JSf7MiDi1M8s",
        "colab_type": "code",
        "colab": {
          "base_uri": "https://localhost:8080/",
          "height": 52
        },
        "outputId": "f8cd741b-9b8c-4b98-c64d-7a9e5da11122"
      },
      "source": [
        "%tensorflow_version 1.x\n",
        "import tensorflow as tf\n",
        "tf.__version__"
      ],
      "execution_count": 9,
      "outputs": [
        {
          "output_type": "stream",
          "text": [
            "TensorFlow 1.x selected.\n"
          ],
          "name": "stdout"
        },
        {
          "output_type": "execute_result",
          "data": {
            "application/vnd.google.colaboratory.intrinsic+json": {
              "type": "string"
            },
            "text/plain": [
              "'1.15.2'"
            ]
          },
          "metadata": {
            "tags": []
          },
          "execution_count": 9
        }
      ]
    },
    {
      "cell_type": "code",
      "metadata": {
        "id": "ZBMjTQmS1Pn8",
        "colab_type": "code",
        "colab": {}
      },
      "source": [
        "# clone pegasus\n",
        "!npx degit google-research/pegasus -f"
      ],
      "execution_count": null,
      "outputs": []
    },
    {
      "cell_type": "code",
      "metadata": {
        "id": "uLJfK9KN16tW",
        "colab_type": "code",
        "colab": {}
      },
      "source": [
        "!pip install mock rouge-score sacrebleu sentencepiece tensorflow-text==1.15.1"
      ],
      "execution_count": null,
      "outputs": []
    },
    {
      "cell_type": "code",
      "metadata": {
        "id": "TRcfD24u1Whq",
        "colab_type": "code",
        "colab": {}
      },
      "source": [
        "!mkdir ckpt\n",
        "!gsutil cp -r gs://pegasus_ckpt/ ckpt/"
      ],
      "execution_count": null,
      "outputs": []
    },
    {
      "cell_type": "code",
      "metadata": {
        "id": "2bwDxRWb1YOB",
        "colab_type": "code",
        "colab": {}
      },
      "source": [
        "import os\n",
        "os.environ['PYTHONPATH'] += ':/content/drive/My Drive/Text_Summarization_Code/my_pegasus'"
      ],
      "execution_count": null,
      "outputs": []
    },
    {
      "cell_type": "code",
      "metadata": {
        "id": "Y2RT5Z0G2ERB",
        "colab_type": "code",
        "colab": {}
      },
      "source": [
        "# fine-tune on CNN\n",
        "!python3 pegasus/bin/train.py --params=cnn_dailymail_transformer \\\n",
        "--param_overrides=vocab_filename=ckpt/pegasus_ckpt/c4.unigram.newline.10pct.96000.model \\\n",
        "--train_init_checkpoint=ckpt/pegasus_ckpt/model.ckpt-1500000 \\\n",
        "--model_dir=ckpt/pegasus_ckpt/cnn_dailymail"
      ],
      "execution_count": null,
      "outputs": []
    },
    {
      "cell_type": "code",
      "metadata": {
        "id": "oKNJzM6W2HG_",
        "colab_type": "code",
        "colab": {}
      },
      "source": [
        "# evaluate CNN\n",
        "!python3 pegasus/bin/evaluate.py --params=cnn_dailymail_transformer \\\n",
        "--param_overrides=vocab_filename=ckpt/pegasus_ckpt/c4.unigram.newline.10pct.96000.model,batch_size=1,beam_size=5,beam_alpha=0.6 \\\n",
        "--model_dir=ckpt/pegasus_ckpt/cnn_dailymail"
      ],
      "execution_count": null,
      "outputs": []
    }
  ]
}