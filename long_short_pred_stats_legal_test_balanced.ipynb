{
 "cells": [
  {
   "cell_type": "code",
   "execution_count": 71,
   "metadata": {},
   "outputs": [],
   "source": [
    "import statistics\n",
    "import matplotlib.pyplot as plt\n",
    "import pandas as pd\n",
    "import random"
   ]
  },
  {
   "cell_type": "code",
   "execution_count": 72,
   "metadata": {},
   "outputs": [],
   "source": [
    "file_input =\\\n",
    "open(r'C:\\Users\\Luba Tovbin\\Desktop\\MS_CMPE\\CMPE-295B\\cnn_user_pref_legal\\inputs-8445-.dev.txt',\n",
    "                        'r', encoding=\"mbcs\")\n",
    "file_pred =\\\n",
    "open(r'C:\\Users\\Luba Tovbin\\Desktop\\MS_CMPE\\CMPE-295B\\cnn_user_pref_legal\\predictions-8445-.dev.txt',\n",
    "                         'r', encoding=\"mbcs\")\n",
    "file_targ =\\\n",
    "open(r'C:\\Users\\Luba Tovbin\\Desktop\\MS_CMPE\\CMPE-295B\\cnn_user_pref_legal\\targets-8445-.dev.txt',\n",
    "                         'r', encoding=\"mbcs\")\n",
    "\n",
    "inputs = file_input.readlines()\n",
    "pred   = file_pred.readlines()\n",
    "targ   = file_targ.readlines()\n",
    "\n",
    "file_input.close()\n",
    "file_pred.close()\n",
    "file_targ.close()"
   ]
  },
  {
   "cell_type": "code",
   "execution_count": 73,
   "metadata": {},
   "outputs": [
    {
     "data": {
      "text/plain": [
       "'-----:0\\n'"
      ]
     },
     "execution_count": 73,
     "metadata": {},
     "output_type": "execute_result"
    }
   ],
   "source": [
    "inputs[0]"
   ]
  },
  {
   "cell_type": "code",
   "execution_count": 74,
   "metadata": {},
   "outputs": [],
   "source": [
    "text_in = []\n",
    "for line in inputs:\n",
    "    if line[0] != '-' and line[0] != '[':\n",
    "        line = line.strip('\\n')\n",
    "        text_in.append(line)"
   ]
  },
  {
   "cell_type": "code",
   "execution_count": 76,
   "metadata": {},
   "outputs": [],
   "source": [
    "for k,text in enumerate(text_in):\n",
    "    if text[:30]=='Short. A butcher whose country':\n",
    "        print(k)"
   ]
  },
  {
   "cell_type": "code",
   "execution_count": 77,
   "metadata": {},
   "outputs": [
    {
     "data": {
      "text/plain": [
       "'Short. please be aware that we may transfer your information to israel the european union and other countries through certain third parties that we use to operate and manage the site and services including amazon web services aws or google cloud services.'"
      ]
     },
     "execution_count": 77,
     "metadata": {},
     "output_type": "execute_result"
    }
   ],
   "source": [
    "text_in[22]"
   ]
  },
  {
   "cell_type": "code",
   "execution_count": 78,
   "metadata": {},
   "outputs": [],
   "source": [
    "summaries = []\n",
    "for line in pred:\n",
    "    if line[0] != '-':\n",
    "        line = line.strip('\\n')\n",
    "        summaries.append(line)   \n",
    "        \n",
    "targets = []\n",
    "for line in targ:\n",
    "    if line[0] != '-':\n",
    "        line = line.strip('\\n')\n",
    "        targets.append(line)   "
   ]
  },
  {
   "cell_type": "code",
   "execution_count": 79,
   "metadata": {},
   "outputs": [
    {
     "name": "stdout",
     "output_type": "stream",
     "text": [
      "device information as described below we collect information from and about the computers phones connected tvs and other web connected devices you use . for example we use information collected about your use of our products on another device such as your laptop or tablet or to measure whether you took an action in response to an ad we showed you on your phone on a different device .\n"
     ]
    },
    {
     "data": {
      "text/plain": [
       "69"
      ]
     },
     "execution_count": 79,
     "metadata": {},
     "output_type": "execute_result"
    }
   ],
   "source": [
    "print(summaries[0])\n",
    "len(summaries[0].split(' '))"
   ]
  },
  {
   "cell_type": "code",
   "execution_count": 80,
   "metadata": {},
   "outputs": [
    {
     "name": "stdout",
     "output_type": "stream",
     "text": [
      "collects all data you send username email credit card number any kind of info other put about you as well. plus all info about your device.\n"
     ]
    },
    {
     "data": {
      "text/plain": [
       "26"
      ]
     },
     "execution_count": 80,
     "metadata": {},
     "output_type": "execute_result"
    }
   ],
   "source": [
    "print(targets[0])\n",
    "len(targets[0].split(' '))"
   ]
  },
  {
   "cell_type": "code",
   "execution_count": 81,
   "metadata": {},
   "outputs": [
    {
     "name": "stdout",
     "output_type": "stream",
     "text": [
      "your data may be processed and stored anywhere in the world.\n"
     ]
    },
    {
     "data": {
      "text/plain": [
       "11"
      ]
     },
     "execution_count": 81,
     "metadata": {},
     "output_type": "execute_result"
    }
   ],
   "source": [
    "print(targets[22])\n",
    "len(targets[22].split(' '))"
   ]
  },
  {
   "cell_type": "code",
   "execution_count": 82,
   "metadata": {},
   "outputs": [
    {
     "name": "stdout",
     "output_type": "stream",
     "text": [
      "Short.\n"
     ]
    },
    {
     "data": {
      "text/plain": [
       "1"
      ]
     },
     "execution_count": 82,
     "metadata": {},
     "output_type": "execute_result"
    }
   ],
   "source": [
    "print(summaries[22])\n",
    "len(summaries[22].split(' '))"
   ]
  },
  {
   "cell_type": "code",
   "execution_count": 121,
   "metadata": {},
   "outputs": [
    {
     "data": {
      "text/html": [
       "<div>\n",
       "<style scoped>\n",
       "    .dataframe tbody tr th:only-of-type {\n",
       "        vertical-align: middle;\n",
       "    }\n",
       "\n",
       "    .dataframe tbody tr th {\n",
       "        vertical-align: top;\n",
       "    }\n",
       "\n",
       "    .dataframe thead th {\n",
       "        text-align: right;\n",
       "    }\n",
       "</style>\n",
       "<table border=\"1\" class=\"dataframe\">\n",
       "  <thead>\n",
       "    <tr style=\"text-align: right;\">\n",
       "      <th></th>\n",
       "      <th>text</th>\n",
       "      <th>summary</th>\n",
       "    </tr>\n",
       "  </thead>\n",
       "  <tbody>\n",
       "    <tr>\n",
       "      <th>0</th>\n",
       "      <td>Short. device information as described below w...</td>\n",
       "      <td>device information as described below we colle...</td>\n",
       "    </tr>\n",
       "    <tr>\n",
       "      <th>1</th>\n",
       "      <td>Long. you agree that all disputes between you ...</td>\n",
       "      <td>you waive your right to participate in a class...</td>\n",
       "    </tr>\n",
       "    <tr>\n",
       "      <th>2</th>\n",
       "      <td>Short. we disclose such information to service...</td>\n",
       "      <td>twitch may disclose your personal information ...</td>\n",
       "    </tr>\n",
       "    <tr>\n",
       "      <th>3</th>\n",
       "      <td>Short. complaints if you wish to lodge a compl...</td>\n",
       "      <td>Short. complaints if you wish to lodge a compl...</td>\n",
       "    </tr>\n",
       "    <tr>\n",
       "      <th>4</th>\n",
       "      <td>Long. in addition content you delete may conti...</td>\n",
       "      <td>in addition content you delete may continue to...</td>\n",
       "    </tr>\n",
       "    <tr>\n",
       "      <th>5</th>\n",
       "      <td>Short. you agree that by entering into this ag...</td>\n",
       "      <td>Short.</td>\n",
       "    </tr>\n",
       "    <tr>\n",
       "      <th>6</th>\n",
       "      <td>Long. in some circumstances your information m...</td>\n",
       "      <td>in some circumstances your information may be ...</td>\n",
       "    </tr>\n",
       "    <tr>\n",
       "      <th>7</th>\n",
       "      <td>Short. you give us permission to use your name...</td>\n",
       "      <td>Short.</td>\n",
       "    </tr>\n",
       "    <tr>\n",
       "      <th>8</th>\n",
       "      <td>Short. you own the content you create and shar...</td>\n",
       "      <td>Short.</td>\n",
       "    </tr>\n",
       "    <tr>\n",
       "      <th>9</th>\n",
       "      <td>Long. all our email communications to you will...</td>\n",
       "      <td>all our email communications to you will conta...</td>\n",
       "    </tr>\n",
       "  </tbody>\n",
       "</table>\n",
       "</div>"
      ],
      "text/plain": [
       "                                                text  \\\n",
       "0  Short. device information as described below w...   \n",
       "1  Long. you agree that all disputes between you ...   \n",
       "2  Short. we disclose such information to service...   \n",
       "3  Short. complaints if you wish to lodge a compl...   \n",
       "4  Long. in addition content you delete may conti...   \n",
       "5  Short. you agree that by entering into this ag...   \n",
       "6  Long. in some circumstances your information m...   \n",
       "7  Short. you give us permission to use your name...   \n",
       "8  Short. you own the content you create and shar...   \n",
       "9  Long. all our email communications to you will...   \n",
       "\n",
       "                                             summary  \n",
       "0  device information as described below we colle...  \n",
       "1  you waive your right to participate in a class...  \n",
       "2  twitch may disclose your personal information ...  \n",
       "3  Short. complaints if you wish to lodge a compl...  \n",
       "4  in addition content you delete may continue to...  \n",
       "5                                             Short.  \n",
       "6  in some circumstances your information may be ...  \n",
       "7                                             Short.  \n",
       "8                                             Short.  \n",
       "9  all our email communications to you will conta...  "
      ]
     },
     "execution_count": 121,
     "metadata": {},
     "output_type": "execute_result"
    }
   ],
   "source": [
    "df = pd.DataFrame({'text':text_in, 'summary':summaries})\n",
    "df[:10]"
   ]
  },
  {
   "cell_type": "code",
   "execution_count": 84,
   "metadata": {},
   "outputs": [],
   "source": [
    "# delete rows with where summary is \"Short\"\n",
    "df = df[df.summary != 'Short.']\n",
    "df.reset_index(inplace=True)"
   ]
  },
  {
   "cell_type": "code",
   "execution_count": 85,
   "metadata": {},
   "outputs": [
    {
     "name": "stdout",
     "output_type": "stream",
     "text": [
      "<class 'pandas.core.frame.DataFrame'>\n",
      "RangeIndex: 66 entries, 0 to 65\n",
      "Data columns (total 3 columns):\n",
      " #   Column   Non-Null Count  Dtype \n",
      "---  ------   --------------  ----- \n",
      " 0   index    66 non-null     int64 \n",
      " 1   text     66 non-null     object\n",
      " 2   summary  66 non-null     object\n",
      "dtypes: int64(1), object(2)\n",
      "memory usage: 1.7+ KB\n"
     ]
    }
   ],
   "source": [
    "df.info()"
   ]
  },
  {
   "cell_type": "code",
   "execution_count": 87,
   "metadata": {},
   "outputs": [],
   "source": [
    "df['keyword']=df['text'].str.slice(0,5)\n",
    "df['text_len']= [ len(x.split(' ')) for x in df['text']]\n",
    "df['summ_len']= [ len(x.split(' ')) for x in df['summary']]"
   ]
  },
  {
   "cell_type": "code",
   "execution_count": 114,
   "metadata": {},
   "outputs": [
    {
     "data": {
      "text/html": [
       "<div>\n",
       "<style scoped>\n",
       "    .dataframe tbody tr th:only-of-type {\n",
       "        vertical-align: middle;\n",
       "    }\n",
       "\n",
       "    .dataframe tbody tr th {\n",
       "        vertical-align: top;\n",
       "    }\n",
       "\n",
       "    .dataframe thead th {\n",
       "        text-align: right;\n",
       "    }\n",
       "</style>\n",
       "<table border=\"1\" class=\"dataframe\">\n",
       "  <thead>\n",
       "    <tr style=\"text-align: right;\">\n",
       "      <th></th>\n",
       "      <th>index</th>\n",
       "      <th>text</th>\n",
       "      <th>summary</th>\n",
       "      <th>keyword</th>\n",
       "      <th>text_len</th>\n",
       "      <th>summ_len</th>\n",
       "    </tr>\n",
       "  </thead>\n",
       "  <tbody>\n",
       "    <tr>\n",
       "      <th>0</th>\n",
       "      <td>0</td>\n",
       "      <td>Short. device information as described below w...</td>\n",
       "      <td>device information as described below we colle...</td>\n",
       "      <td>Short</td>\n",
       "      <td>332</td>\n",
       "      <td>69</td>\n",
       "    </tr>\n",
       "    <tr>\n",
       "      <th>1</th>\n",
       "      <td>1</td>\n",
       "      <td>Long. you agree that all disputes between you ...</td>\n",
       "      <td>you waive your right to participate in a class...</td>\n",
       "      <td>Long.</td>\n",
       "      <td>33</td>\n",
       "      <td>16</td>\n",
       "    </tr>\n",
       "    <tr>\n",
       "      <th>2</th>\n",
       "      <td>2</td>\n",
       "      <td>Short. we disclose such information to service...</td>\n",
       "      <td>twitch may disclose your personal information ...</td>\n",
       "      <td>Short</td>\n",
       "      <td>136</td>\n",
       "      <td>10</td>\n",
       "    </tr>\n",
       "    <tr>\n",
       "      <th>3</th>\n",
       "      <td>3</td>\n",
       "      <td>Short. complaints if you wish to lodge a compl...</td>\n",
       "      <td>Short. complaints if you wish to lodge a compl...</td>\n",
       "      <td>Short</td>\n",
       "      <td>90</td>\n",
       "      <td>27</td>\n",
       "    </tr>\n",
       "    <tr>\n",
       "      <th>4</th>\n",
       "      <td>4</td>\n",
       "      <td>Long. in addition content you delete may conti...</td>\n",
       "      <td>in addition content you delete may continue to...</td>\n",
       "      <td>Long.</td>\n",
       "      <td>23</td>\n",
       "      <td>138</td>\n",
       "    </tr>\n",
       "    <tr>\n",
       "      <th>5</th>\n",
       "      <td>6</td>\n",
       "      <td>Long. in some circumstances your information m...</td>\n",
       "      <td>in some circumstances your information may be ...</td>\n",
       "      <td>Long.</td>\n",
       "      <td>64</td>\n",
       "      <td>42</td>\n",
       "    </tr>\n",
       "    <tr>\n",
       "      <th>6</th>\n",
       "      <td>9</td>\n",
       "      <td>Long. all our email communications to you will...</td>\n",
       "      <td>all our email communications to you will conta...</td>\n",
       "      <td>Long.</td>\n",
       "      <td>12</td>\n",
       "      <td>10</td>\n",
       "    </tr>\n",
       "    <tr>\n",
       "      <th>7</th>\n",
       "      <td>10</td>\n",
       "      <td>Long. this policy was last updated on 1 june 2...</td>\n",
       "      <td>this policy was last updated on 1 june 2018 an...</td>\n",
       "      <td>Long.</td>\n",
       "      <td>16</td>\n",
       "      <td>16</td>\n",
       "    </tr>\n",
       "    <tr>\n",
       "      <th>8</th>\n",
       "      <td>11</td>\n",
       "      <td>Long. unless otherwise agreed to in a written ...</td>\n",
       "      <td>twitch grants you a perpetual, worldwide, roya...</td>\n",
       "      <td>Long.</td>\n",
       "      <td>150</td>\n",
       "      <td>16</td>\n",
       "    </tr>\n",
       "    <tr>\n",
       "      <th>9</th>\n",
       "      <td>12</td>\n",
       "      <td>Long. if you seek to file a legal claim agains...</td>\n",
       "      <td>you agree to file a legal claim against us in ...</td>\n",
       "      <td>Long.</td>\n",
       "      <td>119</td>\n",
       "      <td>73</td>\n",
       "    </tr>\n",
       "    <tr>\n",
       "      <th>10</th>\n",
       "      <td>13</td>\n",
       "      <td>Long. you give us permission to use your name ...</td>\n",
       "      <td>you give us permission to use your name and pr...</td>\n",
       "      <td>Long.</td>\n",
       "      <td>44</td>\n",
       "      <td>17</td>\n",
       "    </tr>\n",
       "    <tr>\n",
       "      <th>11</th>\n",
       "      <td>14</td>\n",
       "      <td>Long. if you have any questions or concerns ab...</td>\n",
       "      <td>if you have any questions or concerns about no...</td>\n",
       "      <td>Long.</td>\n",
       "      <td>104</td>\n",
       "      <td>39</td>\n",
       "    </tr>\n",
       "    <tr>\n",
       "      <th>12</th>\n",
       "      <td>15</td>\n",
       "      <td>Long. sharing with third party partners we wor...</td>\n",
       "      <td>third parties we share information with can us...</td>\n",
       "      <td>Long.</td>\n",
       "      <td>501</td>\n",
       "      <td>48</td>\n",
       "    </tr>\n",
       "    <tr>\n",
       "      <th>13</th>\n",
       "      <td>17</td>\n",
       "      <td>Long. a anonymous encrypted code representing ...</td>\n",
       "      <td>The service allows users to anonymously log in...</td>\n",
       "      <td>Long.</td>\n",
       "      <td>52</td>\n",
       "      <td>10</td>\n",
       "    </tr>\n",
       "    <tr>\n",
       "      <th>14</th>\n",
       "      <td>18</td>\n",
       "      <td>Short. third party vendors including google us...</td>\n",
       "      <td>Third party vendors including google use cooki...</td>\n",
       "      <td>Short</td>\n",
       "      <td>54</td>\n",
       "      <td>11</td>\n",
       "    </tr>\n",
       "    <tr>\n",
       "      <th>15</th>\n",
       "      <td>19</td>\n",
       "      <td>Long. after this time the data will either be ...</td>\n",
       "      <td>after this time the data will either be delete...</td>\n",
       "      <td>Long.</td>\n",
       "      <td>23</td>\n",
       "      <td>23</td>\n",
       "    </tr>\n",
       "    <tr>\n",
       "      <th>16</th>\n",
       "      <td>20</td>\n",
       "      <td>Long. if you are aged 18 or under and would li...</td>\n",
       "      <td>if you are aged 18 or under and would like to ...</td>\n",
       "      <td>Long.</td>\n",
       "      <td>35</td>\n",
       "      <td>160</td>\n",
       "    </tr>\n",
       "    <tr>\n",
       "      <th>17</th>\n",
       "      <td>21</td>\n",
       "      <td>Long. you own the content you create and share...</td>\n",
       "      <td>you own the content you create and share on fa...</td>\n",
       "      <td>Long.</td>\n",
       "      <td>33</td>\n",
       "      <td>33</td>\n",
       "    </tr>\n",
       "    <tr>\n",
       "      <th>18</th>\n",
       "      <td>23</td>\n",
       "      <td>Long. we may update these terms from time to t...</td>\n",
       "      <td>your continued use of the services following t...</td>\n",
       "      <td>Long.</td>\n",
       "      <td>43</td>\n",
       "      <td>22</td>\n",
       "    </tr>\n",
       "    <tr>\n",
       "      <th>19</th>\n",
       "      <td>25</td>\n",
       "      <td>Short. we may update these terms from time to ...</td>\n",
       "      <td>we may change the terms of service from time t...</td>\n",
       "      <td>Short</td>\n",
       "      <td>43</td>\n",
       "      <td>12</td>\n",
       "    </tr>\n",
       "    <tr>\n",
       "      <th>20</th>\n",
       "      <td>26</td>\n",
       "      <td>Long. third party websites on our website we s...</td>\n",
       "      <td>third party websites on our website sometimes ...</td>\n",
       "      <td>Long.</td>\n",
       "      <td>63</td>\n",
       "      <td>33</td>\n",
       "    </tr>\n",
       "    <tr>\n",
       "      <th>21</th>\n",
       "      <td>27</td>\n",
       "      <td>Long. please be aware that we may transfer you...</td>\n",
       "      <td>your personal data may be transferred to israe...</td>\n",
       "      <td>Long.</td>\n",
       "      <td>42</td>\n",
       "      <td>12</td>\n",
       "    </tr>\n",
       "    <tr>\n",
       "      <th>22</th>\n",
       "      <td>28</td>\n",
       "      <td>Long. we can without notice suspend or termina...</td>\n",
       "      <td>we can without notice suspend or termination a...</td>\n",
       "      <td>Long.</td>\n",
       "      <td>165</td>\n",
       "      <td>30</td>\n",
       "    </tr>\n",
       "    <tr>\n",
       "      <th>23</th>\n",
       "      <td>29</td>\n",
       "      <td>Long. when you share post or upload content th...</td>\n",
       "      <td>when you share post or upload content that is ...</td>\n",
       "      <td>Long.</td>\n",
       "      <td>66</td>\n",
       "      <td>65</td>\n",
       "    </tr>\n",
       "    <tr>\n",
       "      <th>24</th>\n",
       "      <td>30</td>\n",
       "      <td>Long. if you do not wish to receive cookies yo...</td>\n",
       "      <td>if you do not wish to receive cookies you can ...</td>\n",
       "      <td>Long.</td>\n",
       "      <td>75</td>\n",
       "      <td>60</td>\n",
       "    </tr>\n",
       "    <tr>\n",
       "      <th>25</th>\n",
       "      <td>32</td>\n",
       "      <td>Short. for example when you go to a website wi...</td>\n",
       "      <td>for example when you go to a website with a li...</td>\n",
       "      <td>Short</td>\n",
       "      <td>187</td>\n",
       "      <td>34</td>\n",
       "    </tr>\n",
       "    <tr>\n",
       "      <th>26</th>\n",
       "      <td>34</td>\n",
       "      <td>Long. you agree that by entering into this agr...</td>\n",
       "      <td>you agree that by entering into this agreement...</td>\n",
       "      <td>Long.</td>\n",
       "      <td>31</td>\n",
       "      <td>31</td>\n",
       "    </tr>\n",
       "    <tr>\n",
       "      <th>27</th>\n",
       "      <td>35</td>\n",
       "      <td>Short. access to and your rights over your per...</td>\n",
       "      <td>access to and your rights over your personal i...</td>\n",
       "      <td>Short</td>\n",
       "      <td>70</td>\n",
       "      <td>10</td>\n",
       "    </tr>\n",
       "    <tr>\n",
       "      <th>28</th>\n",
       "      <td>36</td>\n",
       "      <td>Long. access to and your rights over your pers...</td>\n",
       "      <td>access to and your rights over your personal i...</td>\n",
       "      <td>Long.</td>\n",
       "      <td>70</td>\n",
       "      <td>10</td>\n",
       "    </tr>\n",
       "    <tr>\n",
       "      <th>29</th>\n",
       "      <td>38</td>\n",
       "      <td>Long. complaints if you wish to lodge a compla...</td>\n",
       "      <td>complaints if you wish to lodge a complaint ab...</td>\n",
       "      <td>Long.</td>\n",
       "      <td>90</td>\n",
       "      <td>44</td>\n",
       "    </tr>\n",
       "    <tr>\n",
       "      <th>30</th>\n",
       "      <td>39</td>\n",
       "      <td>Long. we collect personal information in the f...</td>\n",
       "      <td>we collect personal information in the followi...</td>\n",
       "      <td>Long.</td>\n",
       "      <td>68</td>\n",
       "      <td>44</td>\n",
       "    </tr>\n",
       "    <tr>\n",
       "      <th>31</th>\n",
       "      <td>40</td>\n",
       "      <td>Long. we use cookies if you have a facebook ac...</td>\n",
       "      <td>we use facebook for advertising.</td>\n",
       "      <td>Long.</td>\n",
       "      <td>38</td>\n",
       "      <td>5</td>\n",
       "    </tr>\n",
       "    <tr>\n",
       "      <th>32</th>\n",
       "      <td>41</td>\n",
       "      <td>Long. what happens if someone sues sprint base...</td>\n",
       "      <td>you agree to defend and hold sprint and its af...</td>\n",
       "      <td>Long.</td>\n",
       "      <td>114</td>\n",
       "      <td>26</td>\n",
       "    </tr>\n",
       "    <tr>\n",
       "      <th>33</th>\n",
       "      <td>46</td>\n",
       "      <td>Long. removal of content you acknowledge that ...</td>\n",
       "      <td>apple is not responsible for any content provi...</td>\n",
       "      <td>Long.</td>\n",
       "      <td>89</td>\n",
       "      <td>20</td>\n",
       "    </tr>\n",
       "    <tr>\n",
       "      <th>34</th>\n",
       "      <td>48</td>\n",
       "      <td>Long. how do we use information collected. we ...</td>\n",
       "      <td>we use your personal information for the follo...</td>\n",
       "      <td>Long.</td>\n",
       "      <td>121</td>\n",
       "      <td>10</td>\n",
       "    </tr>\n",
       "    <tr>\n",
       "      <th>35</th>\n",
       "      <td>49</td>\n",
       "      <td>Long. device information as described below we...</td>\n",
       "      <td>device information as described below we colle...</td>\n",
       "      <td>Long.</td>\n",
       "      <td>332</td>\n",
       "      <td>69</td>\n",
       "    </tr>\n",
       "    <tr>\n",
       "      <th>36</th>\n",
       "      <td>50</td>\n",
       "      <td>Long. to the extent that sharing your informat...</td>\n",
       "      <td>to the extent that sharing your information in...</td>\n",
       "      <td>Long.</td>\n",
       "      <td>45</td>\n",
       "      <td>45</td>\n",
       "    </tr>\n",
       "    <tr>\n",
       "      <th>37</th>\n",
       "      <td>52</td>\n",
       "      <td>Short. in addition when you engage with advert...</td>\n",
       "      <td>Third parties may be involved in operating the...</td>\n",
       "      <td>Short</td>\n",
       "      <td>76</td>\n",
       "      <td>10</td>\n",
       "    </tr>\n",
       "    <tr>\n",
       "      <th>38</th>\n",
       "      <td>54</td>\n",
       "      <td>Long. the third parties that display advertise...</td>\n",
       "      <td>the third parties that display advertisements ...</td>\n",
       "      <td>Long.</td>\n",
       "      <td>99</td>\n",
       "      <td>50</td>\n",
       "    </tr>\n",
       "    <tr>\n",
       "      <th>39</th>\n",
       "      <td>56</td>\n",
       "      <td>Long. we may make use of third party service p...</td>\n",
       "      <td>we may use third party service providers to he...</td>\n",
       "      <td>Long.</td>\n",
       "      <td>75</td>\n",
       "      <td>244</td>\n",
       "    </tr>\n",
       "    <tr>\n",
       "      <th>40</th>\n",
       "      <td>57</td>\n",
       "      <td>Short. unless otherwise agreed to in a written...</td>\n",
       "      <td>Short. unless otherwise agreed to in a written...</td>\n",
       "      <td>Short</td>\n",
       "      <td>150</td>\n",
       "      <td>14</td>\n",
       "    </tr>\n",
       "    <tr>\n",
       "      <th>41</th>\n",
       "      <td>58</td>\n",
       "      <td>Long. we use cookies to help us show ads and t...</td>\n",
       "      <td>we use cookies to help us show ads and to make...</td>\n",
       "      <td>Long.</td>\n",
       "      <td>32</td>\n",
       "      <td>32</td>\n",
       "    </tr>\n",
       "    <tr>\n",
       "      <th>42</th>\n",
       "      <td>60</td>\n",
       "      <td>Short. we can without notice suspend or termin...</td>\n",
       "      <td>Short. we can without notice suspend or termin...</td>\n",
       "      <td>Short</td>\n",
       "      <td>165</td>\n",
       "      <td>14</td>\n",
       "    </tr>\n",
       "    <tr>\n",
       "      <th>43</th>\n",
       "      <td>61</td>\n",
       "      <td>Long. when you submit text to which you hold t...</td>\n",
       "      <td>when you submit text to which you hold the cop...</td>\n",
       "      <td>Long.</td>\n",
       "      <td>84</td>\n",
       "      <td>57</td>\n",
       "    </tr>\n",
       "    <tr>\n",
       "      <th>44</th>\n",
       "      <td>63</td>\n",
       "      <td>Long. in such case you will be subject to such...</td>\n",
       "      <td>the third party advertiser or service provider...</td>\n",
       "      <td>Long.</td>\n",
       "      <td>68</td>\n",
       "      <td>243</td>\n",
       "    </tr>\n",
       "    <tr>\n",
       "      <th>45</th>\n",
       "      <td>64</td>\n",
       "      <td>Long. in addition when you engage with adverti...</td>\n",
       "      <td>Third parties may be involved in operating the...</td>\n",
       "      <td>Long.</td>\n",
       "      <td>76</td>\n",
       "      <td>10</td>\n",
       "    </tr>\n",
       "    <tr>\n",
       "      <th>46</th>\n",
       "      <td>65</td>\n",
       "      <td>Long. third party vendors including google use...</td>\n",
       "      <td>third party vendors including google use cooki...</td>\n",
       "      <td>Long.</td>\n",
       "      <td>54</td>\n",
       "      <td>24</td>\n",
       "    </tr>\n",
       "    <tr>\n",
       "      <th>47</th>\n",
       "      <td>67</td>\n",
       "      <td>Long. since the like button is a little piece ...</td>\n",
       "      <td>The like button is a little piece of facebook ...</td>\n",
       "      <td>Long.</td>\n",
       "      <td>51</td>\n",
       "      <td>44</td>\n",
       "    </tr>\n",
       "    <tr>\n",
       "      <th>48</th>\n",
       "      <td>68</td>\n",
       "      <td>Short. removal of content you acknowledge that...</td>\n",
       "      <td>Short. apple has no duty to pre screen content .</td>\n",
       "      <td>Short</td>\n",
       "      <td>89</td>\n",
       "      <td>10</td>\n",
       "    </tr>\n",
       "    <tr>\n",
       "      <th>49</th>\n",
       "      <td>71</td>\n",
       "      <td>Short. how do we use information collected. we...</td>\n",
       "      <td>Short. how do we use your personal information?</td>\n",
       "      <td>Short</td>\n",
       "      <td>121</td>\n",
       "      <td>8</td>\n",
       "    </tr>\n",
       "    <tr>\n",
       "      <th>50</th>\n",
       "      <td>72</td>\n",
       "      <td>Long. product research and development we use ...</td>\n",
       "      <td>product research and development we use the in...</td>\n",
       "      <td>Long.</td>\n",
       "      <td>32</td>\n",
       "      <td>18</td>\n",
       "    </tr>\n",
       "    <tr>\n",
       "      <th>51</th>\n",
       "      <td>73</td>\n",
       "      <td>Short. if you have any questions or concerns a...</td>\n",
       "      <td>if you have any questions or concerns about no...</td>\n",
       "      <td>Short</td>\n",
       "      <td>104</td>\n",
       "      <td>39</td>\n",
       "    </tr>\n",
       "    <tr>\n",
       "      <th>52</th>\n",
       "      <td>74</td>\n",
       "      <td>Long. we may change prices or any other term o...</td>\n",
       "      <td>we may change prices or any other term of your...</td>\n",
       "      <td>Long.</td>\n",
       "      <td>50</td>\n",
       "      <td>35</td>\n",
       "    </tr>\n",
       "    <tr>\n",
       "      <th>53</th>\n",
       "      <td>75</td>\n",
       "      <td>Short. third party websites on our website we ...</td>\n",
       "      <td>Third party websites on our website sometimes ...</td>\n",
       "      <td>Short</td>\n",
       "      <td>63</td>\n",
       "      <td>33</td>\n",
       "    </tr>\n",
       "    <tr>\n",
       "      <th>54</th>\n",
       "      <td>76</td>\n",
       "      <td>Short. in such case you will be subject to suc...</td>\n",
       "      <td>Third party advertiser or service provider can...</td>\n",
       "      <td>Short</td>\n",
       "      <td>68</td>\n",
       "      <td>15</td>\n",
       "    </tr>\n",
       "    <tr>\n",
       "      <th>55</th>\n",
       "      <td>77</td>\n",
       "      <td>Long. we disclose such information to service ...</td>\n",
       "      <td>twitch may make information available to third...</td>\n",
       "      <td>Long.</td>\n",
       "      <td>136</td>\n",
       "      <td>233</td>\n",
       "    </tr>\n",
       "    <tr>\n",
       "      <th>56</th>\n",
       "      <td>78</td>\n",
       "      <td>Short. call us immediately if your device is l...</td>\n",
       "      <td>Short. call us immediately if your device is l...</td>\n",
       "      <td>Short</td>\n",
       "      <td>108</td>\n",
       "      <td>12</td>\n",
       "    </tr>\n",
       "    <tr>\n",
       "      <th>57</th>\n",
       "      <td>79</td>\n",
       "      <td>Short. what happens if someone sues sprint bas...</td>\n",
       "      <td>Short. what happens if someone sues sprint bas...</td>\n",
       "      <td>Short</td>\n",
       "      <td>114</td>\n",
       "      <td>14</td>\n",
       "    </tr>\n",
       "    <tr>\n",
       "      <th>58</th>\n",
       "      <td>80</td>\n",
       "      <td>Long. for example when you go to a website wit...</td>\n",
       "      <td>the data we receive includes your user ID the ...</td>\n",
       "      <td>Long.</td>\n",
       "      <td>187</td>\n",
       "      <td>74</td>\n",
       "    </tr>\n",
       "    <tr>\n",
       "      <th>59</th>\n",
       "      <td>82</td>\n",
       "      <td>Short. sharing with third party partners we wo...</td>\n",
       "      <td>Third parties we share information with can us...</td>\n",
       "      <td>Short</td>\n",
       "      <td>501</td>\n",
       "      <td>30</td>\n",
       "    </tr>\n",
       "  </tbody>\n",
       "</table>\n",
       "</div>"
      ],
      "text/plain": [
       "    index                                               text  \\\n",
       "0       0  Short. device information as described below w...   \n",
       "1       1  Long. you agree that all disputes between you ...   \n",
       "2       2  Short. we disclose such information to service...   \n",
       "3       3  Short. complaints if you wish to lodge a compl...   \n",
       "4       4  Long. in addition content you delete may conti...   \n",
       "5       6  Long. in some circumstances your information m...   \n",
       "6       9  Long. all our email communications to you will...   \n",
       "7      10  Long. this policy was last updated on 1 june 2...   \n",
       "8      11  Long. unless otherwise agreed to in a written ...   \n",
       "9      12  Long. if you seek to file a legal claim agains...   \n",
       "10     13  Long. you give us permission to use your name ...   \n",
       "11     14  Long. if you have any questions or concerns ab...   \n",
       "12     15  Long. sharing with third party partners we wor...   \n",
       "13     17  Long. a anonymous encrypted code representing ...   \n",
       "14     18  Short. third party vendors including google us...   \n",
       "15     19  Long. after this time the data will either be ...   \n",
       "16     20  Long. if you are aged 18 or under and would li...   \n",
       "17     21  Long. you own the content you create and share...   \n",
       "18     23  Long. we may update these terms from time to t...   \n",
       "19     25  Short. we may update these terms from time to ...   \n",
       "20     26  Long. third party websites on our website we s...   \n",
       "21     27  Long. please be aware that we may transfer you...   \n",
       "22     28  Long. we can without notice suspend or termina...   \n",
       "23     29  Long. when you share post or upload content th...   \n",
       "24     30  Long. if you do not wish to receive cookies yo...   \n",
       "25     32  Short. for example when you go to a website wi...   \n",
       "26     34  Long. you agree that by entering into this agr...   \n",
       "27     35  Short. access to and your rights over your per...   \n",
       "28     36  Long. access to and your rights over your pers...   \n",
       "29     38  Long. complaints if you wish to lodge a compla...   \n",
       "30     39  Long. we collect personal information in the f...   \n",
       "31     40  Long. we use cookies if you have a facebook ac...   \n",
       "32     41  Long. what happens if someone sues sprint base...   \n",
       "33     46  Long. removal of content you acknowledge that ...   \n",
       "34     48  Long. how do we use information collected. we ...   \n",
       "35     49  Long. device information as described below we...   \n",
       "36     50  Long. to the extent that sharing your informat...   \n",
       "37     52  Short. in addition when you engage with advert...   \n",
       "38     54  Long. the third parties that display advertise...   \n",
       "39     56  Long. we may make use of third party service p...   \n",
       "40     57  Short. unless otherwise agreed to in a written...   \n",
       "41     58  Long. we use cookies to help us show ads and t...   \n",
       "42     60  Short. we can without notice suspend or termin...   \n",
       "43     61  Long. when you submit text to which you hold t...   \n",
       "44     63  Long. in such case you will be subject to such...   \n",
       "45     64  Long. in addition when you engage with adverti...   \n",
       "46     65  Long. third party vendors including google use...   \n",
       "47     67  Long. since the like button is a little piece ...   \n",
       "48     68  Short. removal of content you acknowledge that...   \n",
       "49     71  Short. how do we use information collected. we...   \n",
       "50     72  Long. product research and development we use ...   \n",
       "51     73  Short. if you have any questions or concerns a...   \n",
       "52     74  Long. we may change prices or any other term o...   \n",
       "53     75  Short. third party websites on our website we ...   \n",
       "54     76  Short. in such case you will be subject to suc...   \n",
       "55     77  Long. we disclose such information to service ...   \n",
       "56     78  Short. call us immediately if your device is l...   \n",
       "57     79  Short. what happens if someone sues sprint bas...   \n",
       "58     80  Long. for example when you go to a website wit...   \n",
       "59     82  Short. sharing with third party partners we wo...   \n",
       "\n",
       "                                              summary keyword  text_len  \\\n",
       "0   device information as described below we colle...   Short       332   \n",
       "1   you waive your right to participate in a class...   Long.        33   \n",
       "2   twitch may disclose your personal information ...   Short       136   \n",
       "3   Short. complaints if you wish to lodge a compl...   Short        90   \n",
       "4   in addition content you delete may continue to...   Long.        23   \n",
       "5   in some circumstances your information may be ...   Long.        64   \n",
       "6   all our email communications to you will conta...   Long.        12   \n",
       "7   this policy was last updated on 1 june 2018 an...   Long.        16   \n",
       "8   twitch grants you a perpetual, worldwide, roya...   Long.       150   \n",
       "9   you agree to file a legal claim against us in ...   Long.       119   \n",
       "10  you give us permission to use your name and pr...   Long.        44   \n",
       "11  if you have any questions or concerns about no...   Long.       104   \n",
       "12  third parties we share information with can us...   Long.       501   \n",
       "13  The service allows users to anonymously log in...   Long.        52   \n",
       "14  Third party vendors including google use cooki...   Short        54   \n",
       "15  after this time the data will either be delete...   Long.        23   \n",
       "16  if you are aged 18 or under and would like to ...   Long.        35   \n",
       "17  you own the content you create and share on fa...   Long.        33   \n",
       "18  your continued use of the services following t...   Long.        43   \n",
       "19  we may change the terms of service from time t...   Short        43   \n",
       "20  third party websites on our website sometimes ...   Long.        63   \n",
       "21  your personal data may be transferred to israe...   Long.        42   \n",
       "22  we can without notice suspend or termination a...   Long.       165   \n",
       "23  when you share post or upload content that is ...   Long.        66   \n",
       "24  if you do not wish to receive cookies you can ...   Long.        75   \n",
       "25  for example when you go to a website with a li...   Short       187   \n",
       "26  you agree that by entering into this agreement...   Long.        31   \n",
       "27  access to and your rights over your personal i...   Short        70   \n",
       "28  access to and your rights over your personal i...   Long.        70   \n",
       "29  complaints if you wish to lodge a complaint ab...   Long.        90   \n",
       "30  we collect personal information in the followi...   Long.        68   \n",
       "31                   we use facebook for advertising.   Long.        38   \n",
       "32  you agree to defend and hold sprint and its af...   Long.       114   \n",
       "33  apple is not responsible for any content provi...   Long.        89   \n",
       "34  we use your personal information for the follo...   Long.       121   \n",
       "35  device information as described below we colle...   Long.       332   \n",
       "36  to the extent that sharing your information in...   Long.        45   \n",
       "37  Third parties may be involved in operating the...   Short        76   \n",
       "38  the third parties that display advertisements ...   Long.        99   \n",
       "39  we may use third party service providers to he...   Long.        75   \n",
       "40  Short. unless otherwise agreed to in a written...   Short       150   \n",
       "41  we use cookies to help us show ads and to make...   Long.        32   \n",
       "42  Short. we can without notice suspend or termin...   Short       165   \n",
       "43  when you submit text to which you hold the cop...   Long.        84   \n",
       "44  the third party advertiser or service provider...   Long.        68   \n",
       "45  Third parties may be involved in operating the...   Long.        76   \n",
       "46  third party vendors including google use cooki...   Long.        54   \n",
       "47  The like button is a little piece of facebook ...   Long.        51   \n",
       "48   Short. apple has no duty to pre screen content .   Short        89   \n",
       "49    Short. how do we use your personal information?   Short       121   \n",
       "50  product research and development we use the in...   Long.        32   \n",
       "51  if you have any questions or concerns about no...   Short       104   \n",
       "52  we may change prices or any other term of your...   Long.        50   \n",
       "53  Third party websites on our website sometimes ...   Short        63   \n",
       "54  Third party advertiser or service provider can...   Short        68   \n",
       "55  twitch may make information available to third...   Long.       136   \n",
       "56  Short. call us immediately if your device is l...   Short       108   \n",
       "57  Short. what happens if someone sues sprint bas...   Short       114   \n",
       "58  the data we receive includes your user ID the ...   Long.       187   \n",
       "59  Third parties we share information with can us...   Short       501   \n",
       "\n",
       "    summ_len  \n",
       "0         69  \n",
       "1         16  \n",
       "2         10  \n",
       "3         27  \n",
       "4        138  \n",
       "5         42  \n",
       "6         10  \n",
       "7         16  \n",
       "8         16  \n",
       "9         73  \n",
       "10        17  \n",
       "11        39  \n",
       "12        48  \n",
       "13        10  \n",
       "14        11  \n",
       "15        23  \n",
       "16       160  \n",
       "17        33  \n",
       "18        22  \n",
       "19        12  \n",
       "20        33  \n",
       "21        12  \n",
       "22        30  \n",
       "23        65  \n",
       "24        60  \n",
       "25        34  \n",
       "26        31  \n",
       "27        10  \n",
       "28        10  \n",
       "29        44  \n",
       "30        44  \n",
       "31         5  \n",
       "32        26  \n",
       "33        20  \n",
       "34        10  \n",
       "35        69  \n",
       "36        45  \n",
       "37        10  \n",
       "38        50  \n",
       "39       244  \n",
       "40        14  \n",
       "41        32  \n",
       "42        14  \n",
       "43        57  \n",
       "44       243  \n",
       "45        10  \n",
       "46        24  \n",
       "47        44  \n",
       "48        10  \n",
       "49         8  \n",
       "50        18  \n",
       "51        39  \n",
       "52        35  \n",
       "53        33  \n",
       "54        15  \n",
       "55       233  \n",
       "56        12  \n",
       "57        14  \n",
       "58        74  \n",
       "59        30  "
      ]
     },
     "execution_count": 114,
     "metadata": {},
     "output_type": "execute_result"
    }
   ],
   "source": [
    "df[:60]"
   ]
  },
  {
   "cell_type": "code",
   "execution_count": 89,
   "metadata": {},
   "outputs": [
    {
     "data": {
      "text/plain": [
       "35"
      ]
     },
     "execution_count": 89,
     "metadata": {},
     "output_type": "execute_result"
    }
   ],
   "source": [
    "idx = pd.Index(df['text'])\n",
    "idx.get_loc('Long. device information as described below we collect information from and about the computers phones connected tvs and other web connected devices you use that integrate with our products and we combine this information across different devices you use. for example we use information collected about your use of our products on your phone to better personalize the content including ads or features you see when you use our products on another device such as your laptop or tablet or to measure whether you took an action in response to an ad we showed you on your phone on a different device. information we obtain from these devices includes device attributes information such as the operating system hardware and software versions battery level signal strength available storage space browser type app and file names and types and plugins. device operations information about operations and behaviors performed on the device such as whether a window is foregrounded or backgrounded or mouse movements which can help distinguish humans from bots. identifiers unique identifiers device ids and other identifiers such as from games apps or accounts you use and family device ids or other identifiers unique to facebook company products associated with the same device or account. device signals bluetooth signals and information about nearby wi fi access points beacons and cell towers. data from device settings information you allow us to receive through device settings you turn on such as access to your gps location camera or photos. network and connections information such as the name of your mobile operator or isp language time zone mobile phone number ip address connection speed and in some cases information about other devices that are nearby or on your network so we can do things like help you stream a video from your phone to your tv. cookie data data from cookies stored on your device including cookie ids and settings. learn more about how we use cookies in the facebook cookies policy and instagram cookies policy.') "
   ]
  },
  {
   "cell_type": "code",
   "execution_count": 119,
   "metadata": {},
   "outputs": [
    {
     "name": "stdout",
     "output_type": "stream",
     "text": [
      "Long. sharing with third party partners we work with third party partners who help us provide and improve our products or who use facebook business tools to grow their businesses which makes it possible to operate our companies and provide free services to people around the world. we don t sell any of your information to anyone and we never will. we also impose strict restrictions on how our partners can use and disclose the data we provide. here are the types of third parties we share information with partners who use our analytics services. we provide aggregated statistics and insights that help people and businesses understand how people are engaging with their posts listings pages videos and other content on and off the facebook products. for example page admins and instagram business profiles receive information about the number of people or accounts who viewed reacted to or commented on their posts as well as aggregate demographic and other information that helps them understand interactions with their page or account. advertisers. we provide advertisers with reports about the kinds of people seeing their ads and how their ads are performing but we don t share information that personally identifies you information such as your name or email address that by itself can be used to contact you or identifies who you are unless you give us permission. for example we provide general demographic and interest information to advertisers for example that an ad was seen by a woman between the ages of 25 and 34 who lives in madrid and likes software engineering to help them better understand their audience. we also confirm which facebook ads led you to make a purchase or take an action with an advertiser. measurement partners. we share information about you with companies that aggregate it to provide analytics and measurement reports to our partners. partners offering goods and services in our products. when you subscribe to receive premium content or buy something from a seller in our products the content creator or seller can receive your public information and other information you share with them as well as the information needed to complete the transaction including shipping and contact details. vendors and service providers. we provide information and content to vendors and service providers who support our business such as by providing technical infrastructure services analyzing how our products are used providing customer service facilitating payments or conducting surveys. researchers and academics. we also provide information and content to research partners and academics to conduct research that advances scholarship and innovation that support our business or mission and enhances discovery and innovation on topics of general social welfare technological advancement public interest health and well being. law enforcement or legal requests. we share information with law enforcement or in response to legal requests in the circumstances outlined below. learn more about how you can control the information about you that you or others share with third party partners in the facebook settings and instagram settings. \n",
      "\n",
      "48\n",
      "third parties we share information with can use the information for their own purposes . we don t sell any of your information to anyone and we never will . we also impose strict restrictions on how our partners can use and disclose the data we provide .\n"
     ]
    }
   ],
   "source": [
    "print(df['text'][12],'\\n')\n",
    "print(df['summ_len'][12])\n",
    "print(df['summary'][12])"
   ]
  },
  {
   "cell_type": "code",
   "execution_count": 120,
   "metadata": {},
   "outputs": [
    {
     "name": "stdout",
     "output_type": "stream",
     "text": [
      "Short. sharing with third party partners we work with third party partners who help us provide and improve our products or who use facebook business tools to grow their businesses which makes it possible to operate our companies and provide free services to people around the world. we don t sell any of your information to anyone and we never will. we also impose strict restrictions on how our partners can use and disclose the data we provide. here are the types of third parties we share information with partners who use our analytics services. we provide aggregated statistics and insights that help people and businesses understand how people are engaging with their posts listings pages videos and other content on and off the facebook products. for example page admins and instagram business profiles receive information about the number of people or accounts who viewed reacted to or commented on their posts as well as aggregate demographic and other information that helps them understand interactions with their page or account. advertisers. we provide advertisers with reports about the kinds of people seeing their ads and how their ads are performing but we don t share information that personally identifies you information such as your name or email address that by itself can be used to contact you or identifies who you are unless you give us permission. for example we provide general demographic and interest information to advertisers for example that an ad was seen by a woman between the ages of 25 and 34 who lives in madrid and likes software engineering to help them better understand their audience. we also confirm which facebook ads led you to make a purchase or take an action with an advertiser. measurement partners. we share information about you with companies that aggregate it to provide analytics and measurement reports to our partners. partners offering goods and services in our products. when you subscribe to receive premium content or buy something from a seller in our products the content creator or seller can receive your public information and other information you share with them as well as the information needed to complete the transaction including shipping and contact details. vendors and service providers. we provide information and content to vendors and service providers who support our business such as by providing technical infrastructure services analyzing how our products are used providing customer service facilitating payments or conducting surveys. researchers and academics. we also provide information and content to research partners and academics to conduct research that advances scholarship and innovation that support our business or mission and enhances discovery and innovation on topics of general social welfare technological advancement public interest health and well being. law enforcement or legal requests. we share information with law enforcement or in response to legal requests in the circumstances outlined below. learn more about how you can control the information about you that you or others share with third party partners in the facebook settings and instagram settings. \n",
      "\n",
      "30\n",
      "Third parties we share information with can use the information for their own purposes . we don t sell any of your information to anyone and we never will .\n"
     ]
    }
   ],
   "source": [
    "print(df['text'][59],'\\n')\n",
    "print(df['summ_len'][59])\n",
    "print(df['summary'][59])"
   ]
  },
  {
   "cell_type": "code",
   "execution_count": 117,
   "metadata": {},
   "outputs": [
    {
     "name": "stdout",
     "output_type": "stream",
     "text": [
      "Short. for example when you go to a website with a like button we need to know who you are in order to show you what your facebook friends have liked on that site. the data we receive includes your user id the website you re visiting the date and time and other browser related info. if you re logged out or don t have a facebook account and visit a website with the like button or another social plugin your browser sends us a more limited set of info. for example because you re not logged into facebook you ll have fewer cookies than someone who s logged in. like other sites on the internet we receive info about the web page you re visiting the date and time and other browser related info. we record this info to help us improve our products. as our data policy indicates we use cookies to show you ads on and off facebook. we may also use the info we receive when you visit a site with social plugins to help us show you more interesting and useful ads. \n",
      "\n",
      "for example when you go to a website with a like button we need to know who you are in order to show you what your facebook friends have liked on that site .\n",
      "34\n"
     ]
    }
   ],
   "source": [
    "print(df['text'][25],'\\n')\n",
    "print(df['summary'][25])\n",
    "print(df['summ_len'][25])"
   ]
  },
  {
   "cell_type": "code",
   "execution_count": 118,
   "metadata": {},
   "outputs": [
    {
     "name": "stdout",
     "output_type": "stream",
     "text": [
      "Long. for example when you go to a website with a like button we need to know who you are in order to show you what your facebook friends have liked on that site. the data we receive includes your user id the website you re visiting the date and time and other browser related info. if you re logged out or don t have a facebook account and visit a website with the like button or another social plugin your browser sends us a more limited set of info. for example because you re not logged into facebook you ll have fewer cookies than someone who s logged in. like other sites on the internet we receive info about the web page you re visiting the date and time and other browser related info. we record this info to help us improve our products. as our data policy indicates we use cookies to show you ads on and off facebook. we may also use the info we receive when you visit a site with social plugins to help us show you more interesting and useful ads. \n",
      "\n",
      "the data we receive includes your user ID the website you re visiting the date and time and other browser related info. if you re logged out or don t have a facebook account and visit a website with the like button or another social plugin your browser sends us a more limited set of info. if you re not logged into facebook you ll have fewer cookies than someone who s logged in.\n",
      "74\n"
     ]
    }
   ],
   "source": [
    "print(df['text'][58], '\\n')\n",
    "print(df['summary'][58])\n",
    "print(df['summ_len'][58])"
   ]
  },
  {
   "cell_type": "code",
   "execution_count": 94,
   "metadata": {},
   "outputs": [
    {
     "data": {
      "text/plain": [
       "Long.    45\n",
       "Short    21\n",
       "Name: keyword, dtype: int64"
      ]
     },
     "execution_count": 94,
     "metadata": {},
     "output_type": "execute_result"
    }
   ],
   "source": [
    "df['keyword'].value_counts()"
   ]
  },
  {
   "cell_type": "code",
   "execution_count": 95,
   "metadata": {},
   "outputs": [
    {
     "data": {
      "text/plain": [
       "(array([24., 24., 10.,  4.,  0.,  0.,  2.,  0.,  0.,  2.]),\n",
       " array([ 12. ,  60.9, 109.8, 158.7, 207.6, 256.5, 305.4, 354.3, 403.2,\n",
       "        452.1, 501. ]),\n",
       " <BarContainer object of 10 artists>)"
      ]
     },
     "execution_count": 95,
     "metadata": {},
     "output_type": "execute_result"
    },
    {
     "data": {
      "image/png": "[encoded data removed]",
      "text/plain": [
       "<Figure size 432x288 with 1 Axes>"
      ]
     },
     "metadata": {
      "needs_background": "light"
     },
     "output_type": "display_data"
    }
   ],
   "source": [
    "plt.hist(df['text_len'])"
   ]
  },
  {
   "cell_type": "code",
   "execution_count": 96,
   "metadata": {},
   "outputs": [
    {
     "data": {
      "text/plain": [
       "keyword\n",
       "Long.    52.177778\n",
       "Short    21.190476\n",
       "Name: summ_len, dtype: float64"
      ]
     },
     "execution_count": 96,
     "metadata": {},
     "output_type": "execute_result"
    }
   ],
   "source": [
    "df.groupby(['keyword']).mean()['summ_len']"
   ]
  },
  {
   "cell_type": "code",
   "execution_count": 97,
   "metadata": {},
   "outputs": [],
   "source": [
    "df_long  = df[df['keyword']=='Long.']\n",
    "df_short = df[df['keyword']=='Short']"
   ]
  },
  {
   "cell_type": "code",
   "execution_count": 98,
   "metadata": {},
   "outputs": [
    {
     "data": {
      "text/plain": [
       "Long.    45\n",
       "Name: keyword, dtype: int64"
      ]
     },
     "execution_count": 98,
     "metadata": {},
     "output_type": "execute_result"
    }
   ],
   "source": [
    "df_long['keyword'].value_counts()"
   ]
  },
  {
   "cell_type": "code",
   "execution_count": 99,
   "metadata": {},
   "outputs": [
    {
     "data": {
      "text/plain": [
       "Short    21\n",
       "Name: keyword, dtype: int64"
      ]
     },
     "execution_count": 99,
     "metadata": {},
     "output_type": "execute_result"
    }
   ],
   "source": [
    "df_short['keyword'].value_counts()"
   ]
  },
  {
   "cell_type": "code",
   "execution_count": 100,
   "metadata": {},
   "outputs": [
    {
     "data": {
      "text/plain": [
       "52.17777777777778"
      ]
     },
     "execution_count": 100,
     "metadata": {},
     "output_type": "execute_result"
    }
   ],
   "source": [
    "df_long['summ_len'].mean()"
   ]
  },
  {
   "cell_type": "code",
   "execution_count": 101,
   "metadata": {},
   "outputs": [
    {
     "data": {
      "text/plain": [
       "21.19047619047619"
      ]
     },
     "execution_count": 101,
     "metadata": {},
     "output_type": "execute_result"
    }
   ],
   "source": [
    "df_short['summ_len'].mean()"
   ]
  },
  {
   "cell_type": "code",
   "execution_count": 102,
   "metadata": {},
   "outputs": [
    {
     "data": {
      "text/plain": [
       "list"
      ]
     },
     "execution_count": 102,
     "metadata": {},
     "output_type": "execute_result"
    }
   ],
   "source": [
    "longs = list(df_long['summ_len'])\n",
    "type(longs)"
   ]
  },
  {
   "cell_type": "code",
   "execution_count": 103,
   "metadata": {},
   "outputs": [
    {
     "data": {
      "image/png": "[encoded data removed]",
      "text/plain": [
       "<Figure size 1440x576 with 3 Axes>"
      ]
     },
     "metadata": {
      "needs_background": "light"
     },
     "output_type": "display_data"
    }
   ],
   "source": [
    "\n",
    "fig = plt.figure(figsize=(20,8))\n",
    "gs = fig.add_gridspec(2, 2)\n",
    "ax1 = fig.add_subplot(gs[:,0])\n",
    "ax2 = fig.add_subplot(gs[0,1])\n",
    "ax3 = fig.add_subplot(gs[1,1])\n",
    "\n",
    "ax1.grid()\n",
    "ax2.grid()\n",
    "ax3.grid()\n",
    "\n",
    "ax1.hist(random.sample(longs,21), bins=20, label='Long')\n",
    "ax1.hist(df_short['summ_len'], bins=20, label='Short')\n",
    "ax1.set_title('Lengths Distributions for Long and Short Summaries',fontsize=18)\n",
    "ax1.legend(fontsize=16)\n",
    "\n",
    "ax2.boxplot(df_long['summ_len'], vert=False,)\n",
    "ax2.set_title('Box Plot for Long Summaries',fontsize=18)\n",
    "\n",
    "ax3.boxplot(df_short['summ_len'],vert=False,)\n",
    "ax3.set_title('Box Plot for Short Summaries',fontsize=18)\n",
    "\n",
    "for tick in ax1.xaxis.get_major_ticks(): tick.label.set_fontsize(14)\n",
    "for tick in ax2.xaxis.get_major_ticks(): tick.label.set_fontsize(14) \n",
    "for tick in ax3.xaxis.get_major_ticks(): tick.label.set_fontsize(14)\n",
    "    \n",
    "for tick in ax1.yaxis.get_major_ticks(): tick.label.set_fontsize(14)\n",
    "for tick in ax2.yaxis.get_major_ticks(): tick.label.set_fontsize(14) \n",
    "for tick in ax3.yaxis.get_major_ticks(): tick.label.set_fontsize(14) \n",
    "\n",
    "ax1.set_xlim(10,120)\n",
    "ax2.set_xlim(10,120)\n",
    "ax3.set_xlim(10,120)\n",
    "\n",
    "plt.tight_layout()"
   ]
  },
  {
   "cell_type": "code",
   "execution_count": 104,
   "metadata": {},
   "outputs": [],
   "source": [
    "from scipy import stats"
   ]
  },
  {
   "cell_type": "code",
   "execution_count": 105,
   "metadata": {},
   "outputs": [
    {
     "data": {
      "text/plain": [
       "Ttest_indResult(statistic=3.300386469881325, pvalue=0.0017018056528959533)"
      ]
     },
     "execution_count": 105,
     "metadata": {},
     "output_type": "execute_result"
    }
   ],
   "source": [
    "stats.ttest_ind(df_long['summ_len'], df_short['summ_len'], equal_var=False)"
   ]
  },
  {
   "cell_type": "code",
   "execution_count": null,
   "metadata": {},
   "outputs": [],
   "source": []
  }
 ],
 "metadata": {
  "kernelspec": {
   "display_name": "Python 3",
   "language": "python",
   "name": "python3"
  },
  "language_info": {
   "codemirror_mode": {
    "name": "ipython",
    "version": 3
   },
   "file_extension": ".py",
   "mimetype": "text/x-python",
   "name": "python",
   "nbconvert_exporter": "python",
   "pygments_lexer": "ipython3",
   "version": "3.7.1"
  }
 },
 "nbformat": 4,
 "nbformat_minor": 4
}
