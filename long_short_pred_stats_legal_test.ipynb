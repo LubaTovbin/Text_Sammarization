{
 "cells": [
  {
   "cell_type": "code",
   "execution_count": 67,
   "metadata": {},
   "outputs": [],
   "source": [
    "import statistics\n",
    "import matplotlib.pyplot as plt\n",
    "import pandas as pd"
   ]
  },
  {
   "cell_type": "code",
   "execution_count": 68,
   "metadata": {},
   "outputs": [],
   "source": [
    "file_input =\\\n",
    "open(r'C:\\Users\\Luba Tovbin\\Desktop\\MS_CMPE\\CMPE-295B\\cnn_user_pref_legal\\inputs-8445-.dev.txt',\n",
    "                        'r', encoding=\"mbcs\")\n",
    "file_pred =\\\n",
    "open(r'C:\\Users\\Luba Tovbin\\Desktop\\MS_CMPE\\CMPE-295B\\cnn_user_pref_legal\\predictions-8445-.dev.txt',\n",
    "                         'r', encoding=\"mbcs\")\n",
    "file_targ =\\\n",
    "open(r'C:\\Users\\Luba Tovbin\\Desktop\\MS_CMPE\\CMPE-295B\\cnn_user_pref_legal\\targets-8445-.dev.txt',\n",
    "                         'r', encoding=\"mbcs\")\n",
    "\n",
    "inputs = file_input.readlines()\n",
    "pred   = file_pred.readlines()\n",
    "targ   = file_targ.readlines()\n",
    "\n",
    "file_input.close()\n",
    "file_pred.close()\n",
    "file_targ.close()"
   ]
  },
  {
   "cell_type": "code",
   "execution_count": 69,
   "metadata": {},
   "outputs": [
    {
     "data": {
      "text/plain": [
       "'-----:0\\n'"
      ]
     },
     "execution_count": 69,
     "metadata": {},
     "output_type": "execute_result"
    }
   ],
   "source": [
    "inputs[0]"
   ]
  },
  {
   "cell_type": "code",
   "execution_count": 70,
   "metadata": {},
   "outputs": [],
   "source": [
    "text_in = []\n",
    "for line in inputs:\n",
    "    if line[0] != '-' and line[0] != '[':\n",
    "        line = line.strip('\\n')\n",
    "        text_in.append(line)"
   ]
  },
  {
   "cell_type": "code",
   "execution_count": 71,
   "metadata": {},
   "outputs": [
    {
     "data": {
      "text/plain": [
       "'Short. device information as described below we collect information from and about the computers phones connected tvs and other web connected devices you use that integrate with our products and we combine this information across different devices you use. for example we use information collected about your use of our products on your phone to better personalize the content including ads or features you see when you use our products on another device such as your laptop or tablet or to measure whether you took an action in response to an ad we showed you on your phone on a different device. information we obtain from these devices includes device attributes information such as the operating system hardware and software versions battery level signal strength available storage space browser type app and file names and types and plugins. device operations information about operations and behaviors performed on the device such as whether a window is foregrounded or backgrounded or mouse movements which can help distinguish humans from bots. identifiers unique identifiers device ids and other identifiers such as from games apps or accounts you use and family device ids or other identifiers unique to facebook company products associated with the same device or account. device signals bluetooth signals and information about nearby wi fi access points beacons and cell towers. data from device settings information you allow us to receive through device settings you turn on such as access to your gps location camera or photos. network and connections information such as the name of your mobile operator or isp language time zone mobile phone number ip address connection speed and in some cases information about other devices that are nearby or on your network so we can do things like help you stream a video from your phone to your tv. cookie data data from cookies stored on your device including cookie ids and settings. learn more about how we use cookies in the facebook cookies policy and instagram cookies policy.'"
      ]
     },
     "execution_count": 71,
     "metadata": {},
     "output_type": "execute_result"
    }
   ],
   "source": [
    "text_in[0]"
   ]
  },
  {
   "cell_type": "code",
   "execution_count": 72,
   "metadata": {},
   "outputs": [],
   "source": [
    "for k,text in enumerate(text_in):\n",
    "    if text[:30]=='Short. A butcher whose country':\n",
    "        print(k)"
   ]
  },
  {
   "cell_type": "code",
   "execution_count": 73,
   "metadata": {},
   "outputs": [
    {
     "data": {
      "text/plain": [
       "'Short. please be aware that we may transfer your information to israel the european union and other countries through certain third parties that we use to operate and manage the site and services including amazon web services aws or google cloud services.'"
      ]
     },
     "execution_count": 73,
     "metadata": {},
     "output_type": "execute_result"
    }
   ],
   "source": [
    "text_in[22]"
   ]
  },
  {
   "cell_type": "code",
   "execution_count": 74,
   "metadata": {},
   "outputs": [],
   "source": [
    "summaries = []\n",
    "for line in pred:\n",
    "    if line[0] != '-':\n",
    "        line = line.strip('\\n')\n",
    "        summaries.append(line)   \n",
    "        \n",
    "targets = []\n",
    "for line in targ:\n",
    "    if line[0] != '-':\n",
    "        line = line.strip('\\n')\n",
    "        targets.append(line)   "
   ]
  },
  {
   "cell_type": "code",
   "execution_count": 75,
   "metadata": {},
   "outputs": [
    {
     "name": "stdout",
     "output_type": "stream",
     "text": [
      "device information as described below we collect information from and about the computers phones connected tvs and other web connected devices you use . for example we use information collected about your use of our products on another device such as your laptop or tablet or to measure whether you took an action in response to an ad we showed you on your phone on a different device .\n"
     ]
    },
    {
     "data": {
      "text/plain": [
       "69"
      ]
     },
     "execution_count": 75,
     "metadata": {},
     "output_type": "execute_result"
    }
   ],
   "source": [
    "print(summaries[0])\n",
    "len(summaries[0].split(' '))"
   ]
  },
  {
   "cell_type": "code",
   "execution_count": 76,
   "metadata": {},
   "outputs": [
    {
     "name": "stdout",
     "output_type": "stream",
     "text": [
      "collects all data you send username email credit card number any kind of info other put about you as well. plus all info about your device.\n"
     ]
    },
    {
     "data": {
      "text/plain": [
       "26"
      ]
     },
     "execution_count": 76,
     "metadata": {},
     "output_type": "execute_result"
    }
   ],
   "source": [
    "print(targets[0])\n",
    "len(targets[0].split(' '))"
   ]
  },
  {
   "cell_type": "code",
   "execution_count": 77,
   "metadata": {},
   "outputs": [
    {
     "name": "stdout",
     "output_type": "stream",
     "text": [
      "your data may be processed and stored anywhere in the world.\n"
     ]
    },
    {
     "data": {
      "text/plain": [
       "11"
      ]
     },
     "execution_count": 77,
     "metadata": {},
     "output_type": "execute_result"
    }
   ],
   "source": [
    "print(targets[22])\n",
    "len(targets[22].split(' '))"
   ]
  },
  {
   "cell_type": "code",
   "execution_count": 78,
   "metadata": {},
   "outputs": [
    {
     "name": "stdout",
     "output_type": "stream",
     "text": [
      "Short.\n"
     ]
    },
    {
     "data": {
      "text/plain": [
       "1"
      ]
     },
     "execution_count": 78,
     "metadata": {},
     "output_type": "execute_result"
    }
   ],
   "source": [
    "print(summaries[22])\n",
    "len(summaries[22].split(' '))"
   ]
  },
  {
   "cell_type": "code",
   "execution_count": 79,
   "metadata": {},
   "outputs": [
    {
     "data": {
      "text/html": [
       "<div>\n",
       "<style scoped>\n",
       "    .dataframe tbody tr th:only-of-type {\n",
       "        vertical-align: middle;\n",
       "    }\n",
       "\n",
       "    .dataframe tbody tr th {\n",
       "        vertical-align: top;\n",
       "    }\n",
       "\n",
       "    .dataframe thead th {\n",
       "        text-align: right;\n",
       "    }\n",
       "</style>\n",
       "<table border=\"1\" class=\"dataframe\">\n",
       "  <thead>\n",
       "    <tr style=\"text-align: right;\">\n",
       "      <th></th>\n",
       "      <th>text</th>\n",
       "      <th>summary</th>\n",
       "    </tr>\n",
       "  </thead>\n",
       "  <tbody>\n",
       "    <tr>\n",
       "      <th>0</th>\n",
       "      <td>Short. device information as described below w...</td>\n",
       "      <td>device information as described below we colle...</td>\n",
       "    </tr>\n",
       "    <tr>\n",
       "      <th>1</th>\n",
       "      <td>Long. you agree that all disputes between you ...</td>\n",
       "      <td>you waive your right to participate in a class...</td>\n",
       "    </tr>\n",
       "    <tr>\n",
       "      <th>2</th>\n",
       "      <td>Short. we disclose such information to service...</td>\n",
       "      <td>twitch may disclose your personal information ...</td>\n",
       "    </tr>\n",
       "    <tr>\n",
       "      <th>3</th>\n",
       "      <td>Short. complaints if you wish to lodge a compl...</td>\n",
       "      <td>Short. complaints if you wish to lodge a compl...</td>\n",
       "    </tr>\n",
       "    <tr>\n",
       "      <th>4</th>\n",
       "      <td>Long. in addition content you delete may conti...</td>\n",
       "      <td>in addition content you delete may continue to...</td>\n",
       "    </tr>\n",
       "    <tr>\n",
       "      <th>5</th>\n",
       "      <td>Short. you agree that by entering into this ag...</td>\n",
       "      <td>Short.</td>\n",
       "    </tr>\n",
       "    <tr>\n",
       "      <th>6</th>\n",
       "      <td>Long. in some circumstances your information m...</td>\n",
       "      <td>in some circumstances your information may be ...</td>\n",
       "    </tr>\n",
       "    <tr>\n",
       "      <th>7</th>\n",
       "      <td>Short. you give us permission to use your name...</td>\n",
       "      <td>Short.</td>\n",
       "    </tr>\n",
       "    <tr>\n",
       "      <th>8</th>\n",
       "      <td>Short. you own the content you create and shar...</td>\n",
       "      <td>Short.</td>\n",
       "    </tr>\n",
       "    <tr>\n",
       "      <th>9</th>\n",
       "      <td>Long. all our email communications to you will...</td>\n",
       "      <td>all our email communications to you will conta...</td>\n",
       "    </tr>\n",
       "    <tr>\n",
       "      <th>10</th>\n",
       "      <td>Long. this policy was last updated on 1 june 2...</td>\n",
       "      <td>this policy was last updated on 1 june 2018 an...</td>\n",
       "    </tr>\n",
       "    <tr>\n",
       "      <th>11</th>\n",
       "      <td>Long. unless otherwise agreed to in a written ...</td>\n",
       "      <td>twitch grants you a perpetual, worldwide, roya...</td>\n",
       "    </tr>\n",
       "    <tr>\n",
       "      <th>12</th>\n",
       "      <td>Long. if you seek to file a legal claim agains...</td>\n",
       "      <td>you agree to file a legal claim against us in ...</td>\n",
       "    </tr>\n",
       "    <tr>\n",
       "      <th>13</th>\n",
       "      <td>Long. you give us permission to use your name ...</td>\n",
       "      <td>you give us permission to use your name and pr...</td>\n",
       "    </tr>\n",
       "    <tr>\n",
       "      <th>14</th>\n",
       "      <td>Long. if you have any questions or concerns ab...</td>\n",
       "      <td>if you have any questions or concerns about no...</td>\n",
       "    </tr>\n",
       "    <tr>\n",
       "      <th>15</th>\n",
       "      <td>Long. sharing with third party partners we wor...</td>\n",
       "      <td>third parties we share information with can us...</td>\n",
       "    </tr>\n",
       "    <tr>\n",
       "      <th>16</th>\n",
       "      <td>Short. because our services are used by people...</td>\n",
       "      <td>Short.</td>\n",
       "    </tr>\n",
       "    <tr>\n",
       "      <th>17</th>\n",
       "      <td>Long. a anonymous encrypted code representing ...</td>\n",
       "      <td>The service allows users to anonymously log in...</td>\n",
       "    </tr>\n",
       "    <tr>\n",
       "      <th>18</th>\n",
       "      <td>Short. third party vendors including google us...</td>\n",
       "      <td>Third party vendors including google use cooki...</td>\n",
       "    </tr>\n",
       "    <tr>\n",
       "      <th>19</th>\n",
       "      <td>Long. after this time the data will either be ...</td>\n",
       "      <td>after this time the data will either be delete...</td>\n",
       "    </tr>\n",
       "    <tr>\n",
       "      <th>20</th>\n",
       "      <td>Long. if you are aged 18 or under and would li...</td>\n",
       "      <td>if you are aged 18 or under and would like to ...</td>\n",
       "    </tr>\n",
       "    <tr>\n",
       "      <th>21</th>\n",
       "      <td>Long. you own the content you create and share...</td>\n",
       "      <td>you own the content you create and share on fa...</td>\n",
       "    </tr>\n",
       "    <tr>\n",
       "      <th>22</th>\n",
       "      <td>Short. please be aware that we may transfer yo...</td>\n",
       "      <td>Short.</td>\n",
       "    </tr>\n",
       "    <tr>\n",
       "      <th>23</th>\n",
       "      <td>Long. we may update these terms from time to t...</td>\n",
       "      <td>your continued use of the services following t...</td>\n",
       "    </tr>\n",
       "    <tr>\n",
       "      <th>24</th>\n",
       "      <td>Short. we use cookies if you have a facebook a...</td>\n",
       "      <td>Short.</td>\n",
       "    </tr>\n",
       "    <tr>\n",
       "      <th>25</th>\n",
       "      <td>Short. we may update these terms from time to ...</td>\n",
       "      <td>we may change the terms of service from time t...</td>\n",
       "    </tr>\n",
       "    <tr>\n",
       "      <th>26</th>\n",
       "      <td>Long. third party websites on our website we s...</td>\n",
       "      <td>third party websites on our website sometimes ...</td>\n",
       "    </tr>\n",
       "    <tr>\n",
       "      <th>27</th>\n",
       "      <td>Long. please be aware that we may transfer you...</td>\n",
       "      <td>your personal data may be transferred to israe...</td>\n",
       "    </tr>\n",
       "    <tr>\n",
       "      <th>28</th>\n",
       "      <td>Long. we can without notice suspend or termina...</td>\n",
       "      <td>we can without notice suspend or termination a...</td>\n",
       "    </tr>\n",
       "    <tr>\n",
       "      <th>29</th>\n",
       "      <td>Long. when you share post or upload content th...</td>\n",
       "      <td>when you share post or upload content that is ...</td>\n",
       "    </tr>\n",
       "  </tbody>\n",
       "</table>\n",
       "</div>"
      ],
      "text/plain": [
       "                                                 text  \\\n",
       "0   Short. device information as described below w...   \n",
       "1   Long. you agree that all disputes between you ...   \n",
       "2   Short. we disclose such information to service...   \n",
       "3   Short. complaints if you wish to lodge a compl...   \n",
       "4   Long. in addition content you delete may conti...   \n",
       "5   Short. you agree that by entering into this ag...   \n",
       "6   Long. in some circumstances your information m...   \n",
       "7   Short. you give us permission to use your name...   \n",
       "8   Short. you own the content you create and shar...   \n",
       "9   Long. all our email communications to you will...   \n",
       "10  Long. this policy was last updated on 1 june 2...   \n",
       "11  Long. unless otherwise agreed to in a written ...   \n",
       "12  Long. if you seek to file a legal claim agains...   \n",
       "13  Long. you give us permission to use your name ...   \n",
       "14  Long. if you have any questions or concerns ab...   \n",
       "15  Long. sharing with third party partners we wor...   \n",
       "16  Short. because our services are used by people...   \n",
       "17  Long. a anonymous encrypted code representing ...   \n",
       "18  Short. third party vendors including google us...   \n",
       "19  Long. after this time the data will either be ...   \n",
       "20  Long. if you are aged 18 or under and would li...   \n",
       "21  Long. you own the content you create and share...   \n",
       "22  Short. please be aware that we may transfer yo...   \n",
       "23  Long. we may update these terms from time to t...   \n",
       "24  Short. we use cookies if you have a facebook a...   \n",
       "25  Short. we may update these terms from time to ...   \n",
       "26  Long. third party websites on our website we s...   \n",
       "27  Long. please be aware that we may transfer you...   \n",
       "28  Long. we can without notice suspend or termina...   \n",
       "29  Long. when you share post or upload content th...   \n",
       "\n",
       "                                              summary  \n",
       "0   device information as described below we colle...  \n",
       "1   you waive your right to participate in a class...  \n",
       "2   twitch may disclose your personal information ...  \n",
       "3   Short. complaints if you wish to lodge a compl...  \n",
       "4   in addition content you delete may continue to...  \n",
       "5                                              Short.  \n",
       "6   in some circumstances your information may be ...  \n",
       "7                                              Short.  \n",
       "8                                              Short.  \n",
       "9   all our email communications to you will conta...  \n",
       "10  this policy was last updated on 1 june 2018 an...  \n",
       "11  twitch grants you a perpetual, worldwide, roya...  \n",
       "12  you agree to file a legal claim against us in ...  \n",
       "13  you give us permission to use your name and pr...  \n",
       "14  if you have any questions or concerns about no...  \n",
       "15  third parties we share information with can us...  \n",
       "16                                             Short.  \n",
       "17  The service allows users to anonymously log in...  \n",
       "18  Third party vendors including google use cooki...  \n",
       "19  after this time the data will either be delete...  \n",
       "20  if you are aged 18 or under and would like to ...  \n",
       "21  you own the content you create and share on fa...  \n",
       "22                                             Short.  \n",
       "23  your continued use of the services following t...  \n",
       "24                                             Short.  \n",
       "25  we may change the terms of service from time t...  \n",
       "26  third party websites on our website sometimes ...  \n",
       "27  your personal data may be transferred to israe...  \n",
       "28  we can without notice suspend or termination a...  \n",
       "29  when you share post or upload content that is ...  "
      ]
     },
     "execution_count": 79,
     "metadata": {},
     "output_type": "execute_result"
    }
   ],
   "source": [
    "df = pd.DataFrame({'text':text_in, 'summary':summaries})\n",
    "df[:30]"
   ]
  },
  {
   "cell_type": "code",
   "execution_count": 80,
   "metadata": {},
   "outputs": [],
   "source": [
    "df1 = df[df.summary != 'Short.']"
   ]
  },
  {
   "cell_type": "code",
   "execution_count": 81,
   "metadata": {},
   "outputs": [
    {
     "name": "stdout",
     "output_type": "stream",
     "text": [
      "<class 'pandas.core.frame.DataFrame'>\n",
      "Int64Index: 66 entries, 0 to 89\n",
      "Data columns (total 2 columns):\n",
      " #   Column   Non-Null Count  Dtype \n",
      "---  ------   --------------  ----- \n",
      " 0   text     66 non-null     object\n",
      " 1   summary  66 non-null     object\n",
      "dtypes: object(2)\n",
      "memory usage: 1.5+ KB\n"
     ]
    }
   ],
   "source": [
    "df1.info()"
   ]
  },
  {
   "cell_type": "code",
   "execution_count": 82,
   "metadata": {},
   "outputs": [
    {
     "data": {
      "text/html": [
       "<div>\n",
       "<style scoped>\n",
       "    .dataframe tbody tr th:only-of-type {\n",
       "        vertical-align: middle;\n",
       "    }\n",
       "\n",
       "    .dataframe tbody tr th {\n",
       "        vertical-align: top;\n",
       "    }\n",
       "\n",
       "    .dataframe thead th {\n",
       "        text-align: right;\n",
       "    }\n",
       "</style>\n",
       "<table border=\"1\" class=\"dataframe\">\n",
       "  <thead>\n",
       "    <tr style=\"text-align: right;\">\n",
       "      <th></th>\n",
       "      <th>text</th>\n",
       "      <th>summary</th>\n",
       "    </tr>\n",
       "  </thead>\n",
       "  <tbody>\n",
       "    <tr>\n",
       "      <th>0</th>\n",
       "      <td>Short. device information as described below w...</td>\n",
       "      <td>device information as described below we colle...</td>\n",
       "    </tr>\n",
       "    <tr>\n",
       "      <th>1</th>\n",
       "      <td>Long. you agree that all disputes between you ...</td>\n",
       "      <td>you waive your right to participate in a class...</td>\n",
       "    </tr>\n",
       "    <tr>\n",
       "      <th>2</th>\n",
       "      <td>Short. we disclose such information to service...</td>\n",
       "      <td>twitch may disclose your personal information ...</td>\n",
       "    </tr>\n",
       "    <tr>\n",
       "      <th>3</th>\n",
       "      <td>Short. complaints if you wish to lodge a compl...</td>\n",
       "      <td>Short. complaints if you wish to lodge a compl...</td>\n",
       "    </tr>\n",
       "    <tr>\n",
       "      <th>4</th>\n",
       "      <td>Long. in addition content you delete may conti...</td>\n",
       "      <td>in addition content you delete may continue to...</td>\n",
       "    </tr>\n",
       "    <tr>\n",
       "      <th>6</th>\n",
       "      <td>Long. in some circumstances your information m...</td>\n",
       "      <td>in some circumstances your information may be ...</td>\n",
       "    </tr>\n",
       "    <tr>\n",
       "      <th>9</th>\n",
       "      <td>Long. all our email communications to you will...</td>\n",
       "      <td>all our email communications to you will conta...</td>\n",
       "    </tr>\n",
       "    <tr>\n",
       "      <th>10</th>\n",
       "      <td>Long. this policy was last updated on 1 june 2...</td>\n",
       "      <td>this policy was last updated on 1 june 2018 an...</td>\n",
       "    </tr>\n",
       "    <tr>\n",
       "      <th>11</th>\n",
       "      <td>Long. unless otherwise agreed to in a written ...</td>\n",
       "      <td>twitch grants you a perpetual, worldwide, roya...</td>\n",
       "    </tr>\n",
       "    <tr>\n",
       "      <th>12</th>\n",
       "      <td>Long. if you seek to file a legal claim agains...</td>\n",
       "      <td>you agree to file a legal claim against us in ...</td>\n",
       "    </tr>\n",
       "    <tr>\n",
       "      <th>13</th>\n",
       "      <td>Long. you give us permission to use your name ...</td>\n",
       "      <td>you give us permission to use your name and pr...</td>\n",
       "    </tr>\n",
       "    <tr>\n",
       "      <th>14</th>\n",
       "      <td>Long. if you have any questions or concerns ab...</td>\n",
       "      <td>if you have any questions or concerns about no...</td>\n",
       "    </tr>\n",
       "    <tr>\n",
       "      <th>15</th>\n",
       "      <td>Long. sharing with third party partners we wor...</td>\n",
       "      <td>third parties we share information with can us...</td>\n",
       "    </tr>\n",
       "    <tr>\n",
       "      <th>17</th>\n",
       "      <td>Long. a anonymous encrypted code representing ...</td>\n",
       "      <td>The service allows users to anonymously log in...</td>\n",
       "    </tr>\n",
       "    <tr>\n",
       "      <th>18</th>\n",
       "      <td>Short. third party vendors including google us...</td>\n",
       "      <td>Third party vendors including google use cooki...</td>\n",
       "    </tr>\n",
       "    <tr>\n",
       "      <th>19</th>\n",
       "      <td>Long. after this time the data will either be ...</td>\n",
       "      <td>after this time the data will either be delete...</td>\n",
       "    </tr>\n",
       "    <tr>\n",
       "      <th>20</th>\n",
       "      <td>Long. if you are aged 18 or under and would li...</td>\n",
       "      <td>if you are aged 18 or under and would like to ...</td>\n",
       "    </tr>\n",
       "    <tr>\n",
       "      <th>21</th>\n",
       "      <td>Long. you own the content you create and share...</td>\n",
       "      <td>you own the content you create and share on fa...</td>\n",
       "    </tr>\n",
       "    <tr>\n",
       "      <th>23</th>\n",
       "      <td>Long. we may update these terms from time to t...</td>\n",
       "      <td>your continued use of the services following t...</td>\n",
       "    </tr>\n",
       "    <tr>\n",
       "      <th>25</th>\n",
       "      <td>Short. we may update these terms from time to ...</td>\n",
       "      <td>we may change the terms of service from time t...</td>\n",
       "    </tr>\n",
       "    <tr>\n",
       "      <th>26</th>\n",
       "      <td>Long. third party websites on our website we s...</td>\n",
       "      <td>third party websites on our website sometimes ...</td>\n",
       "    </tr>\n",
       "    <tr>\n",
       "      <th>27</th>\n",
       "      <td>Long. please be aware that we may transfer you...</td>\n",
       "      <td>your personal data may be transferred to israe...</td>\n",
       "    </tr>\n",
       "    <tr>\n",
       "      <th>28</th>\n",
       "      <td>Long. we can without notice suspend or termina...</td>\n",
       "      <td>we can without notice suspend or termination a...</td>\n",
       "    </tr>\n",
       "    <tr>\n",
       "      <th>29</th>\n",
       "      <td>Long. when you share post or upload content th...</td>\n",
       "      <td>when you share post or upload content that is ...</td>\n",
       "    </tr>\n",
       "    <tr>\n",
       "      <th>30</th>\n",
       "      <td>Long. if you do not wish to receive cookies yo...</td>\n",
       "      <td>if you do not wish to receive cookies you can ...</td>\n",
       "    </tr>\n",
       "    <tr>\n",
       "      <th>32</th>\n",
       "      <td>Short. for example when you go to a website wi...</td>\n",
       "      <td>for example when you go to a website with a li...</td>\n",
       "    </tr>\n",
       "    <tr>\n",
       "      <th>34</th>\n",
       "      <td>Long. you agree that by entering into this agr...</td>\n",
       "      <td>you agree that by entering into this agreement...</td>\n",
       "    </tr>\n",
       "    <tr>\n",
       "      <th>35</th>\n",
       "      <td>Short. access to and your rights over your per...</td>\n",
       "      <td>access to and your rights over your personal i...</td>\n",
       "    </tr>\n",
       "    <tr>\n",
       "      <th>36</th>\n",
       "      <td>Long. access to and your rights over your pers...</td>\n",
       "      <td>access to and your rights over your personal i...</td>\n",
       "    </tr>\n",
       "    <tr>\n",
       "      <th>38</th>\n",
       "      <td>Long. complaints if you wish to lodge a compla...</td>\n",
       "      <td>complaints if you wish to lodge a complaint ab...</td>\n",
       "    </tr>\n",
       "  </tbody>\n",
       "</table>\n",
       "</div>"
      ],
      "text/plain": [
       "                                                 text  \\\n",
       "0   Short. device information as described below w...   \n",
       "1   Long. you agree that all disputes between you ...   \n",
       "2   Short. we disclose such information to service...   \n",
       "3   Short. complaints if you wish to lodge a compl...   \n",
       "4   Long. in addition content you delete may conti...   \n",
       "6   Long. in some circumstances your information m...   \n",
       "9   Long. all our email communications to you will...   \n",
       "10  Long. this policy was last updated on 1 june 2...   \n",
       "11  Long. unless otherwise agreed to in a written ...   \n",
       "12  Long. if you seek to file a legal claim agains...   \n",
       "13  Long. you give us permission to use your name ...   \n",
       "14  Long. if you have any questions or concerns ab...   \n",
       "15  Long. sharing with third party partners we wor...   \n",
       "17  Long. a anonymous encrypted code representing ...   \n",
       "18  Short. third party vendors including google us...   \n",
       "19  Long. after this time the data will either be ...   \n",
       "20  Long. if you are aged 18 or under and would li...   \n",
       "21  Long. you own the content you create and share...   \n",
       "23  Long. we may update these terms from time to t...   \n",
       "25  Short. we may update these terms from time to ...   \n",
       "26  Long. third party websites on our website we s...   \n",
       "27  Long. please be aware that we may transfer you...   \n",
       "28  Long. we can without notice suspend or termina...   \n",
       "29  Long. when you share post or upload content th...   \n",
       "30  Long. if you do not wish to receive cookies yo...   \n",
       "32  Short. for example when you go to a website wi...   \n",
       "34  Long. you agree that by entering into this agr...   \n",
       "35  Short. access to and your rights over your per...   \n",
       "36  Long. access to and your rights over your pers...   \n",
       "38  Long. complaints if you wish to lodge a compla...   \n",
       "\n",
       "                                              summary  \n",
       "0   device information as described below we colle...  \n",
       "1   you waive your right to participate in a class...  \n",
       "2   twitch may disclose your personal information ...  \n",
       "3   Short. complaints if you wish to lodge a compl...  \n",
       "4   in addition content you delete may continue to...  \n",
       "6   in some circumstances your information may be ...  \n",
       "9   all our email communications to you will conta...  \n",
       "10  this policy was last updated on 1 june 2018 an...  \n",
       "11  twitch grants you a perpetual, worldwide, roya...  \n",
       "12  you agree to file a legal claim against us in ...  \n",
       "13  you give us permission to use your name and pr...  \n",
       "14  if you have any questions or concerns about no...  \n",
       "15  third parties we share information with can us...  \n",
       "17  The service allows users to anonymously log in...  \n",
       "18  Third party vendors including google use cooki...  \n",
       "19  after this time the data will either be delete...  \n",
       "20  if you are aged 18 or under and would like to ...  \n",
       "21  you own the content you create and share on fa...  \n",
       "23  your continued use of the services following t...  \n",
       "25  we may change the terms of service from time t...  \n",
       "26  third party websites on our website sometimes ...  \n",
       "27  your personal data may be transferred to israe...  \n",
       "28  we can without notice suspend or termination a...  \n",
       "29  when you share post or upload content that is ...  \n",
       "30  if you do not wish to receive cookies you can ...  \n",
       "32  for example when you go to a website with a li...  \n",
       "34  you agree that by entering into this agreement...  \n",
       "35  access to and your rights over your personal i...  \n",
       "36  access to and your rights over your personal i...  \n",
       "38  complaints if you wish to lodge a complaint ab...  "
      ]
     },
     "execution_count": 82,
     "metadata": {},
     "output_type": "execute_result"
    }
   ],
   "source": [
    "df1[:30]"
   ]
  },
  {
   "cell_type": "code",
   "execution_count": 83,
   "metadata": {},
   "outputs": [],
   "source": [
    "df['keyword']=df['text'].str.slice(0,5)\n",
    "df['text_len']= [ len(x.split(' ')) for x in df['text']]\n",
    "df['summ_len']= [ len(x.split(' ')) for x in df['summary']]"
   ]
  },
  {
   "cell_type": "code",
   "execution_count": 84,
   "metadata": {},
   "outputs": [
    {
     "data": {
      "text/html": [
       "<div>\n",
       "<style scoped>\n",
       "    .dataframe tbody tr th:only-of-type {\n",
       "        vertical-align: middle;\n",
       "    }\n",
       "\n",
       "    .dataframe tbody tr th {\n",
       "        vertical-align: top;\n",
       "    }\n",
       "\n",
       "    .dataframe thead th {\n",
       "        text-align: right;\n",
       "    }\n",
       "</style>\n",
       "<table border=\"1\" class=\"dataframe\">\n",
       "  <thead>\n",
       "    <tr style=\"text-align: right;\">\n",
       "      <th></th>\n",
       "      <th>text</th>\n",
       "      <th>summary</th>\n",
       "      <th>keyword</th>\n",
       "      <th>text_len</th>\n",
       "      <th>summ_len</th>\n",
       "    </tr>\n",
       "  </thead>\n",
       "  <tbody>\n",
       "    <tr>\n",
       "      <th>0</th>\n",
       "      <td>Short. device information as described below w...</td>\n",
       "      <td>device information as described below we colle...</td>\n",
       "      <td>Short</td>\n",
       "      <td>332</td>\n",
       "      <td>69</td>\n",
       "    </tr>\n",
       "    <tr>\n",
       "      <th>1</th>\n",
       "      <td>Long. you agree that all disputes between you ...</td>\n",
       "      <td>you waive your right to participate in a class...</td>\n",
       "      <td>Long.</td>\n",
       "      <td>33</td>\n",
       "      <td>16</td>\n",
       "    </tr>\n",
       "    <tr>\n",
       "      <th>2</th>\n",
       "      <td>Short. we disclose such information to service...</td>\n",
       "      <td>twitch may disclose your personal information ...</td>\n",
       "      <td>Short</td>\n",
       "      <td>136</td>\n",
       "      <td>10</td>\n",
       "    </tr>\n",
       "    <tr>\n",
       "      <th>3</th>\n",
       "      <td>Short. complaints if you wish to lodge a compl...</td>\n",
       "      <td>Short. complaints if you wish to lodge a compl...</td>\n",
       "      <td>Short</td>\n",
       "      <td>90</td>\n",
       "      <td>27</td>\n",
       "    </tr>\n",
       "    <tr>\n",
       "      <th>4</th>\n",
       "      <td>Long. in addition content you delete may conti...</td>\n",
       "      <td>in addition content you delete may continue to...</td>\n",
       "      <td>Long.</td>\n",
       "      <td>23</td>\n",
       "      <td>138</td>\n",
       "    </tr>\n",
       "    <tr>\n",
       "      <th>5</th>\n",
       "      <td>Short. you agree that by entering into this ag...</td>\n",
       "      <td>Short.</td>\n",
       "      <td>Short</td>\n",
       "      <td>31</td>\n",
       "      <td>1</td>\n",
       "    </tr>\n",
       "    <tr>\n",
       "      <th>6</th>\n",
       "      <td>Long. in some circumstances your information m...</td>\n",
       "      <td>in some circumstances your information may be ...</td>\n",
       "      <td>Long.</td>\n",
       "      <td>64</td>\n",
       "      <td>42</td>\n",
       "    </tr>\n",
       "    <tr>\n",
       "      <th>7</th>\n",
       "      <td>Short. you give us permission to use your name...</td>\n",
       "      <td>Short.</td>\n",
       "      <td>Short</td>\n",
       "      <td>44</td>\n",
       "      <td>1</td>\n",
       "    </tr>\n",
       "    <tr>\n",
       "      <th>8</th>\n",
       "      <td>Short. you own the content you create and shar...</td>\n",
       "      <td>Short.</td>\n",
       "      <td>Short</td>\n",
       "      <td>33</td>\n",
       "      <td>1</td>\n",
       "    </tr>\n",
       "    <tr>\n",
       "      <th>9</th>\n",
       "      <td>Long. all our email communications to you will...</td>\n",
       "      <td>all our email communications to you will conta...</td>\n",
       "      <td>Long.</td>\n",
       "      <td>12</td>\n",
       "      <td>10</td>\n",
       "    </tr>\n",
       "    <tr>\n",
       "      <th>10</th>\n",
       "      <td>Long. this policy was last updated on 1 june 2...</td>\n",
       "      <td>this policy was last updated on 1 june 2018 an...</td>\n",
       "      <td>Long.</td>\n",
       "      <td>16</td>\n",
       "      <td>16</td>\n",
       "    </tr>\n",
       "    <tr>\n",
       "      <th>11</th>\n",
       "      <td>Long. unless otherwise agreed to in a written ...</td>\n",
       "      <td>twitch grants you a perpetual, worldwide, roya...</td>\n",
       "      <td>Long.</td>\n",
       "      <td>150</td>\n",
       "      <td>16</td>\n",
       "    </tr>\n",
       "    <tr>\n",
       "      <th>12</th>\n",
       "      <td>Long. if you seek to file a legal claim agains...</td>\n",
       "      <td>you agree to file a legal claim against us in ...</td>\n",
       "      <td>Long.</td>\n",
       "      <td>119</td>\n",
       "      <td>73</td>\n",
       "    </tr>\n",
       "    <tr>\n",
       "      <th>13</th>\n",
       "      <td>Long. you give us permission to use your name ...</td>\n",
       "      <td>you give us permission to use your name and pr...</td>\n",
       "      <td>Long.</td>\n",
       "      <td>44</td>\n",
       "      <td>17</td>\n",
       "    </tr>\n",
       "    <tr>\n",
       "      <th>14</th>\n",
       "      <td>Long. if you have any questions or concerns ab...</td>\n",
       "      <td>if you have any questions or concerns about no...</td>\n",
       "      <td>Long.</td>\n",
       "      <td>104</td>\n",
       "      <td>39</td>\n",
       "    </tr>\n",
       "    <tr>\n",
       "      <th>15</th>\n",
       "      <td>Long. sharing with third party partners we wor...</td>\n",
       "      <td>third parties we share information with can us...</td>\n",
       "      <td>Long.</td>\n",
       "      <td>501</td>\n",
       "      <td>48</td>\n",
       "    </tr>\n",
       "    <tr>\n",
       "      <th>16</th>\n",
       "      <td>Short. because our services are used by people...</td>\n",
       "      <td>Short.</td>\n",
       "      <td>Short</td>\n",
       "      <td>40</td>\n",
       "      <td>1</td>\n",
       "    </tr>\n",
       "    <tr>\n",
       "      <th>17</th>\n",
       "      <td>Long. a anonymous encrypted code representing ...</td>\n",
       "      <td>The service allows users to anonymously log in...</td>\n",
       "      <td>Long.</td>\n",
       "      <td>52</td>\n",
       "      <td>10</td>\n",
       "    </tr>\n",
       "    <tr>\n",
       "      <th>18</th>\n",
       "      <td>Short. third party vendors including google us...</td>\n",
       "      <td>Third party vendors including google use cooki...</td>\n",
       "      <td>Short</td>\n",
       "      <td>54</td>\n",
       "      <td>11</td>\n",
       "    </tr>\n",
       "    <tr>\n",
       "      <th>19</th>\n",
       "      <td>Long. after this time the data will either be ...</td>\n",
       "      <td>after this time the data will either be delete...</td>\n",
       "      <td>Long.</td>\n",
       "      <td>23</td>\n",
       "      <td>23</td>\n",
       "    </tr>\n",
       "    <tr>\n",
       "      <th>20</th>\n",
       "      <td>Long. if you are aged 18 or under and would li...</td>\n",
       "      <td>if you are aged 18 or under and would like to ...</td>\n",
       "      <td>Long.</td>\n",
       "      <td>35</td>\n",
       "      <td>160</td>\n",
       "    </tr>\n",
       "    <tr>\n",
       "      <th>21</th>\n",
       "      <td>Long. you own the content you create and share...</td>\n",
       "      <td>you own the content you create and share on fa...</td>\n",
       "      <td>Long.</td>\n",
       "      <td>33</td>\n",
       "      <td>33</td>\n",
       "    </tr>\n",
       "    <tr>\n",
       "      <th>22</th>\n",
       "      <td>Short. please be aware that we may transfer yo...</td>\n",
       "      <td>Short.</td>\n",
       "      <td>Short</td>\n",
       "      <td>42</td>\n",
       "      <td>1</td>\n",
       "    </tr>\n",
       "    <tr>\n",
       "      <th>23</th>\n",
       "      <td>Long. we may update these terms from time to t...</td>\n",
       "      <td>your continued use of the services following t...</td>\n",
       "      <td>Long.</td>\n",
       "      <td>43</td>\n",
       "      <td>22</td>\n",
       "    </tr>\n",
       "    <tr>\n",
       "      <th>24</th>\n",
       "      <td>Short. we use cookies if you have a facebook a...</td>\n",
       "      <td>Short.</td>\n",
       "      <td>Short</td>\n",
       "      <td>38</td>\n",
       "      <td>1</td>\n",
       "    </tr>\n",
       "    <tr>\n",
       "      <th>25</th>\n",
       "      <td>Short. we may update these terms from time to ...</td>\n",
       "      <td>we may change the terms of service from time t...</td>\n",
       "      <td>Short</td>\n",
       "      <td>43</td>\n",
       "      <td>12</td>\n",
       "    </tr>\n",
       "    <tr>\n",
       "      <th>26</th>\n",
       "      <td>Long. third party websites on our website we s...</td>\n",
       "      <td>third party websites on our website sometimes ...</td>\n",
       "      <td>Long.</td>\n",
       "      <td>63</td>\n",
       "      <td>33</td>\n",
       "    </tr>\n",
       "    <tr>\n",
       "      <th>27</th>\n",
       "      <td>Long. please be aware that we may transfer you...</td>\n",
       "      <td>your personal data may be transferred to israe...</td>\n",
       "      <td>Long.</td>\n",
       "      <td>42</td>\n",
       "      <td>12</td>\n",
       "    </tr>\n",
       "    <tr>\n",
       "      <th>28</th>\n",
       "      <td>Long. we can without notice suspend or termina...</td>\n",
       "      <td>we can without notice suspend or termination a...</td>\n",
       "      <td>Long.</td>\n",
       "      <td>165</td>\n",
       "      <td>30</td>\n",
       "    </tr>\n",
       "    <tr>\n",
       "      <th>29</th>\n",
       "      <td>Long. when you share post or upload content th...</td>\n",
       "      <td>when you share post or upload content that is ...</td>\n",
       "      <td>Long.</td>\n",
       "      <td>66</td>\n",
       "      <td>65</td>\n",
       "    </tr>\n",
       "  </tbody>\n",
       "</table>\n",
       "</div>"
      ],
      "text/plain": [
       "                                                 text  \\\n",
       "0   Short. device information as described below w...   \n",
       "1   Long. you agree that all disputes between you ...   \n",
       "2   Short. we disclose such information to service...   \n",
       "3   Short. complaints if you wish to lodge a compl...   \n",
       "4   Long. in addition content you delete may conti...   \n",
       "5   Short. you agree that by entering into this ag...   \n",
       "6   Long. in some circumstances your information m...   \n",
       "7   Short. you give us permission to use your name...   \n",
       "8   Short. you own the content you create and shar...   \n",
       "9   Long. all our email communications to you will...   \n",
       "10  Long. this policy was last updated on 1 june 2...   \n",
       "11  Long. unless otherwise agreed to in a written ...   \n",
       "12  Long. if you seek to file a legal claim agains...   \n",
       "13  Long. you give us permission to use your name ...   \n",
       "14  Long. if you have any questions or concerns ab...   \n",
       "15  Long. sharing with third party partners we wor...   \n",
       "16  Short. because our services are used by people...   \n",
       "17  Long. a anonymous encrypted code representing ...   \n",
       "18  Short. third party vendors including google us...   \n",
       "19  Long. after this time the data will either be ...   \n",
       "20  Long. if you are aged 18 or under and would li...   \n",
       "21  Long. you own the content you create and share...   \n",
       "22  Short. please be aware that we may transfer yo...   \n",
       "23  Long. we may update these terms from time to t...   \n",
       "24  Short. we use cookies if you have a facebook a...   \n",
       "25  Short. we may update these terms from time to ...   \n",
       "26  Long. third party websites on our website we s...   \n",
       "27  Long. please be aware that we may transfer you...   \n",
       "28  Long. we can without notice suspend or termina...   \n",
       "29  Long. when you share post or upload content th...   \n",
       "\n",
       "                                              summary keyword  text_len  \\\n",
       "0   device information as described below we colle...   Short       332   \n",
       "1   you waive your right to participate in a class...   Long.        33   \n",
       "2   twitch may disclose your personal information ...   Short       136   \n",
       "3   Short. complaints if you wish to lodge a compl...   Short        90   \n",
       "4   in addition content you delete may continue to...   Long.        23   \n",
       "5                                              Short.   Short        31   \n",
       "6   in some circumstances your information may be ...   Long.        64   \n",
       "7                                              Short.   Short        44   \n",
       "8                                              Short.   Short        33   \n",
       "9   all our email communications to you will conta...   Long.        12   \n",
       "10  this policy was last updated on 1 june 2018 an...   Long.        16   \n",
       "11  twitch grants you a perpetual, worldwide, roya...   Long.       150   \n",
       "12  you agree to file a legal claim against us in ...   Long.       119   \n",
       "13  you give us permission to use your name and pr...   Long.        44   \n",
       "14  if you have any questions or concerns about no...   Long.       104   \n",
       "15  third parties we share information with can us...   Long.       501   \n",
       "16                                             Short.   Short        40   \n",
       "17  The service allows users to anonymously log in...   Long.        52   \n",
       "18  Third party vendors including google use cooki...   Short        54   \n",
       "19  after this time the data will either be delete...   Long.        23   \n",
       "20  if you are aged 18 or under and would like to ...   Long.        35   \n",
       "21  you own the content you create and share on fa...   Long.        33   \n",
       "22                                             Short.   Short        42   \n",
       "23  your continued use of the services following t...   Long.        43   \n",
       "24                                             Short.   Short        38   \n",
       "25  we may change the terms of service from time t...   Short        43   \n",
       "26  third party websites on our website sometimes ...   Long.        63   \n",
       "27  your personal data may be transferred to israe...   Long.        42   \n",
       "28  we can without notice suspend or termination a...   Long.       165   \n",
       "29  when you share post or upload content that is ...   Long.        66   \n",
       "\n",
       "    summ_len  \n",
       "0         69  \n",
       "1         16  \n",
       "2         10  \n",
       "3         27  \n",
       "4        138  \n",
       "5          1  \n",
       "6         42  \n",
       "7          1  \n",
       "8          1  \n",
       "9         10  \n",
       "10        16  \n",
       "11        16  \n",
       "12        73  \n",
       "13        17  \n",
       "14        39  \n",
       "15        48  \n",
       "16         1  \n",
       "17        10  \n",
       "18        11  \n",
       "19        23  \n",
       "20       160  \n",
       "21        33  \n",
       "22         1  \n",
       "23        22  \n",
       "24         1  \n",
       "25        12  \n",
       "26        33  \n",
       "27        12  \n",
       "28        30  \n",
       "29        65  "
      ]
     },
     "execution_count": 84,
     "metadata": {},
     "output_type": "execute_result"
    }
   ],
   "source": [
    "df[:30]"
   ]
  },
  {
   "cell_type": "code",
   "execution_count": 85,
   "metadata": {},
   "outputs": [
    {
     "data": {
      "text/plain": [
       "Long.    45\n",
       "Short    45\n",
       "Name: keyword, dtype: int64"
      ]
     },
     "execution_count": 85,
     "metadata": {},
     "output_type": "execute_result"
    }
   ],
   "source": [
    "df['keyword'].value_counts()"
   ]
  },
  {
   "cell_type": "code",
   "execution_count": 86,
   "metadata": {},
   "outputs": [
    {
     "data": {
      "text/plain": [
       "(array([42., 30., 10.,  4.,  0.,  0.,  2.,  0.,  0.,  2.]),\n",
       " array([ 12. ,  60.9, 109.8, 158.7, 207.6, 256.5, 305.4, 354.3, 403.2,\n",
       "        452.1, 501. ]),\n",
       " <BarContainer object of 10 artists>)"
      ]
     },
     "execution_count": 86,
     "metadata": {},
     "output_type": "execute_result"
    },
    {
     "data": {
      "image/png": "[encoded data removed]",
      "text/plain": [
       "<Figure size 432x288 with 1 Axes>"
      ]
     },
     "metadata": {
      "needs_background": "light"
     },
     "output_type": "display_data"
    }
   ],
   "source": [
    "plt.hist(df['text_len'])"
   ]
  },
  {
   "cell_type": "code",
   "execution_count": 87,
   "metadata": {},
   "outputs": [
    {
     "data": {
      "text/plain": [
       "keyword\n",
       "Long.    52.177778\n",
       "Short    10.422222\n",
       "Name: summ_len, dtype: float64"
      ]
     },
     "execution_count": 87,
     "metadata": {},
     "output_type": "execute_result"
    }
   ],
   "source": [
    "df.groupby(['keyword']).mean()['summ_len']"
   ]
  },
  {
   "cell_type": "code",
   "execution_count": 88,
   "metadata": {},
   "outputs": [],
   "source": [
    "df_long  = df[df['keyword']=='Long.']\n",
    "df_short = df[df['keyword']=='Short']"
   ]
  },
  {
   "cell_type": "code",
   "execution_count": 89,
   "metadata": {},
   "outputs": [
    {
     "data": {
      "text/plain": [
       "Long.    45\n",
       "Name: keyword, dtype: int64"
      ]
     },
     "execution_count": 89,
     "metadata": {},
     "output_type": "execute_result"
    }
   ],
   "source": [
    "df_long['keyword'].value_counts()"
   ]
  },
  {
   "cell_type": "code",
   "execution_count": 90,
   "metadata": {},
   "outputs": [
    {
     "data": {
      "text/plain": [
       "Short    45\n",
       "Name: keyword, dtype: int64"
      ]
     },
     "execution_count": 90,
     "metadata": {},
     "output_type": "execute_result"
    }
   ],
   "source": [
    "df_short['keyword'].value_counts()"
   ]
  },
  {
   "cell_type": "code",
   "execution_count": 91,
   "metadata": {},
   "outputs": [
    {
     "data": {
      "text/plain": [
       "52.17777777777778"
      ]
     },
     "execution_count": 91,
     "metadata": {},
     "output_type": "execute_result"
    }
   ],
   "source": [
    "df_long['summ_len'].mean()"
   ]
  },
  {
   "cell_type": "code",
   "execution_count": 92,
   "metadata": {},
   "outputs": [
    {
     "data": {
      "text/plain": [
       "10.422222222222222"
      ]
     },
     "execution_count": 92,
     "metadata": {},
     "output_type": "execute_result"
    }
   ],
   "source": [
    "df_short['summ_len'].mean()"
   ]
  },
  {
   "cell_type": "code",
   "execution_count": 98,
   "metadata": {},
   "outputs": [
    {
     "data": {
      "image/png": "[encoded data removed]",
      "text/plain": [
       "<Figure size 1440x576 with 3 Axes>"
      ]
     },
     "metadata": {
      "needs_background": "light"
     },
     "output_type": "display_data"
    }
   ],
   "source": [
    "fig = plt.figure(figsize=(20,8))\n",
    "gs = fig.add_gridspec(2, 2)\n",
    "ax1 = fig.add_subplot(gs[:,0])\n",
    "ax2 = fig.add_subplot(gs[0,1])\n",
    "ax3 = fig.add_subplot(gs[1,1])\n",
    "\n",
    "ax1.grid()\n",
    "ax2.grid()\n",
    "ax3.grid()\n",
    "\n",
    "ax1.hist(df_long['summ_len'], bins=20, label='Long')\n",
    "ax1.hist(df_short['summ_len'], bins=20, label='Short')\n",
    "ax1.set_title('Lengths Distributions for Long and Short Summaries',fontsize=18)\n",
    "ax1.legend(fontsize=16)\n",
    "\n",
    "ax2.boxplot(df_long['summ_len'], vert=False,)\n",
    "ax2.set_title('Box Plot for Long Summaries',fontsize=18)\n",
    "\n",
    "ax3.boxplot(df_short['summ_len'],vert=False,)\n",
    "ax3.set_title('Box Plot for Short Summaries',fontsize=18)\n",
    "\n",
    "for tick in ax1.xaxis.get_major_ticks(): tick.label.set_fontsize(14)\n",
    "for tick in ax2.xaxis.get_major_ticks(): tick.label.set_fontsize(14) \n",
    "for tick in ax3.xaxis.get_major_ticks(): tick.label.set_fontsize(14)\n",
    "    \n",
    "for tick in ax1.yaxis.get_major_ticks(): tick.label.set_fontsize(14)\n",
    "for tick in ax2.yaxis.get_major_ticks(): tick.label.set_fontsize(14) \n",
    "for tick in ax3.yaxis.get_major_ticks(): tick.label.set_fontsize(14) \n",
    "\n",
    "ax1.set_xlim(10,120)\n",
    "ax2.set_xlim(10,120)\n",
    "ax3.set_xlim(10,120)\n",
    "\n",
    "plt.tight_layout()"
   ]
  },
  {
   "cell_type": "code",
   "execution_count": 99,
   "metadata": {},
   "outputs": [],
   "source": [
    "from scipy import stats"
   ]
  },
  {
   "cell_type": "code",
   "execution_count": 100,
   "metadata": {},
   "outputs": [
    {
     "data": {
      "text/plain": [
       "Ttest_indResult(statistic=4.6128125925956756, pvalue=2.8574860559370476e-05)"
      ]
     },
     "execution_count": 100,
     "metadata": {},
     "output_type": "execute_result"
    }
   ],
   "source": [
    "stats.ttest_ind(df_long['summ_len'], df_short['summ_len'], equal_var=False)"
   ]
  },
  {
   "cell_type": "code",
   "execution_count": null,
   "metadata": {},
   "outputs": [],
   "source": []
  }
 ],
 "metadata": {
  "kernelspec": {
   "display_name": "Python 3",
   "language": "python",
   "name": "python3"
  },
  "language_info": {
   "codemirror_mode": {
    "name": "ipython",
    "version": 3
   },
   "file_extension": ".py",
   "mimetype": "text/x-python",
   "name": "python",
   "nbconvert_exporter": "python",
   "pygments_lexer": "ipython3",
   "version": "3.7.1"
  }
 },
 "nbformat": 4,
 "nbformat_minor": 4
}
