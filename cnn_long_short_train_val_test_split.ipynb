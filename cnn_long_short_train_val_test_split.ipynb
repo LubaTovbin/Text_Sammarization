{
 "cells": [
  {
   "cell_type": "code",
   "execution_count": 1,
   "metadata": {},
   "outputs": [],
   "source": [
    "file_cnn_long_in = open(r'C:\\Users\\Luba Tovbin\\Desktop\\MS_CMPE\\CMPE-295B\\CNN_long\\cnn_inputs_long.txt',\n",
    "                        'r', encoding=\"mbcs\")\n",
    "file_cnn_long_out = open(r'C:\\Users\\Luba Tovbin\\Desktop\\MS_CMPE\\CMPE-295B\\CNN_long\\cnn_outputs_long.txt',\n",
    "                         'r', encoding=\"mbcs\")\n",
    "\n",
    "file_cnn_short_in = open(r'C:\\Users\\Luba Tovbin\\Desktop\\MS_CMPE\\CMPE-295B\\CNN_short\\cnn_inputs_short.txt',\n",
    "                        'r', encoding=\"mbcs\")\n",
    "file_cnn_short_out = open(r'C:\\Users\\Luba Tovbin\\Desktop\\MS_CMPE\\CMPE-295B\\CNN_short\\cnn_outputs_short.txt',\n",
    "                         'r', encoding=\"mbcs\")\n",
    "\n",
    "long_in   = file_cnn_long_in.readlines()\n",
    "long_out  = file_cnn_long_out.readlines()\n",
    "short_in  = file_cnn_short_in.readlines()\n",
    "short_out = file_cnn_short_out.readlines()\n",
    "\n",
    "file_cnn_long_in.close()\n",
    "file_cnn_long_out.close()\n",
    "file_cnn_short_in.close()\n",
    "file_cnn_short_out.close()"
   ]
  },
  {
   "cell_type": "code",
   "execution_count": 2,
   "metadata": {},
   "outputs": [
    {
     "data": {
      "text/plain": [
       "1000"
      ]
     },
     "execution_count": 2,
     "metadata": {},
     "output_type": "execute_result"
    }
   ],
   "source": [
    "len(long_in)"
   ]
  },
  {
   "cell_type": "code",
   "execution_count": 3,
   "metadata": {},
   "outputs": [
    {
     "data": {
      "text/plain": [
       "1000"
      ]
     },
     "execution_count": 3,
     "metadata": {},
     "output_type": "execute_result"
    }
   ],
   "source": [
    "len(long_out)"
   ]
  },
  {
   "cell_type": "code",
   "execution_count": 4,
   "metadata": {},
   "outputs": [
    {
     "data": {
      "text/plain": [
       "1000"
      ]
     },
     "execution_count": 4,
     "metadata": {},
     "output_type": "execute_result"
    }
   ],
   "source": [
    "len(short_in)"
   ]
  },
  {
   "cell_type": "code",
   "execution_count": 5,
   "metadata": {},
   "outputs": [
    {
     "data": {
      "text/plain": [
       "1000"
      ]
     },
     "execution_count": 5,
     "metadata": {},
     "output_type": "execute_result"
    }
   ],
   "source": [
    "len(short_out)"
   ]
  },
  {
   "cell_type": "code",
   "execution_count": 6,
   "metadata": {},
   "outputs": [],
   "source": [
    "long_in_train = long_in[:800]\n",
    "long_in_val   = long_in[800:900]\n",
    "long_in_test  = long_in[900:1000]\n",
    "\n",
    "short_in_train = short_in[:800]\n",
    "short_in_val   = short_in[800:900]\n",
    "short_in_test  = short_in[900:1000]"
   ]
  },
  {
   "cell_type": "code",
   "execution_count": 7,
   "metadata": {},
   "outputs": [],
   "source": [
    "long_out_train = long_out[:800]\n",
    "long_out_val   = long_out[800:900]\n",
    "long_out_test  = long_out[900:1000]\n",
    "\n",
    "short_out_train = short_out[:800]\n",
    "short_out_val   = short_out[800:900]\n",
    "short_out_test  = short_out[900:1000]"
   ]
  },
  {
   "cell_type": "code",
   "execution_count": 8,
   "metadata": {},
   "outputs": [
    {
     "data": {
      "text/plain": [
       "800"
      ]
     },
     "execution_count": 8,
     "metadata": {},
     "output_type": "execute_result"
    }
   ],
   "source": [
    "len(long_in_train)"
   ]
  },
  {
   "cell_type": "code",
   "execution_count": 9,
   "metadata": {},
   "outputs": [
    {
     "data": {
      "text/plain": [
       "100"
      ]
     },
     "execution_count": 9,
     "metadata": {},
     "output_type": "execute_result"
    }
   ],
   "source": [
    "len(long_in_val)"
   ]
  },
  {
   "cell_type": "code",
   "execution_count": 10,
   "metadata": {},
   "outputs": [
    {
     "data": {
      "text/plain": [
       "100"
      ]
     },
     "execution_count": 10,
     "metadata": {},
     "output_type": "execute_result"
    }
   ],
   "source": [
    "len(long_in_test)"
   ]
  },
  {
   "cell_type": "code",
   "execution_count": 11,
   "metadata": {},
   "outputs": [
    {
     "data": {
      "text/plain": [
       "[1, 2, 3, 4]"
      ]
     },
     "execution_count": 11,
     "metadata": {},
     "output_type": "execute_result"
    }
   ],
   "source": [
    "l = [1,2]\n",
    "s = [3,4]\n",
    "h = l+s\n",
    "h"
   ]
  },
  {
   "cell_type": "code",
   "execution_count": 12,
   "metadata": {},
   "outputs": [],
   "source": [
    "cnn_in_train = long_in_train + short_in_train\n",
    "cnn_in_val   = long_in_val   + short_in_val\n",
    "cnn_in_test  = long_in_test  + short_in_test\n",
    "\n",
    "cnn_out_train = long_out_train + short_out_train\n",
    "cnn_out_val   = long_out_val   + short_out_val\n",
    "cnn_out_test  = long_out_test  + short_out_test"
   ]
  },
  {
   "cell_type": "code",
   "execution_count": 13,
   "metadata": {},
   "outputs": [],
   "source": [
    "with open(r'C:\\Users\\Luba Tovbin\\Desktop\\MS_CMPE\\CMPE-295B\\CNN_user_pref\\cnn_in_train.txt',\n",
    "          'w', encoding=\"mbcs\") as f:\n",
    "    for line in cnn_in_train: \n",
    "        f.write(line)\n",
    "\n",
    "with open(r'C:\\Users\\Luba Tovbin\\Desktop\\MS_CMPE\\CMPE-295B\\CNN_user_pref\\cnn_in_val.txt',\n",
    "          'w', encoding=\"mbcs\") as f:\n",
    "    for line in cnn_in_val: \n",
    "        f.write(line)\n",
    "        \n",
    "with open(r'C:\\Users\\Luba Tovbin\\Desktop\\MS_CMPE\\CMPE-295B\\CNN_user_pref\\cnn_in_test.txt',\n",
    "          'w', encoding=\"mbcs\") as f:\n",
    "    for line in cnn_in_test: \n",
    "        f.write(line)"
   ]
  },
  {
   "cell_type": "code",
   "execution_count": 14,
   "metadata": {},
   "outputs": [],
   "source": [
    "with open(r'C:\\Users\\Luba Tovbin\\Desktop\\MS_CMPE\\CMPE-295B\\CNN_user_pref\\cnn_out_train.txt',\n",
    "          'w', encoding=\"mbcs\") as f:\n",
    "    for line in cnn_out_train: \n",
    "        f.write(line)\n",
    "\n",
    "with open(r'C:\\Users\\Luba Tovbin\\Desktop\\MS_CMPE\\CMPE-295B\\CNN_user_pref\\cnn_out_val.txt',\n",
    "          'w', encoding=\"mbcs\") as f:\n",
    "    for line in cnn_out_val: \n",
    "        f.write(line)\n",
    "        \n",
    "with open(r'C:\\Users\\Luba Tovbin\\Desktop\\MS_CMPE\\CMPE-295B\\CNN_user_pref\\cnn_out_test.txt',\n",
    "          'w', encoding=\"mbcs\") as f:\n",
    "    for line in cnn_out_test: \n",
    "        f.write(line)"
   ]
  },
  {
   "cell_type": "code",
   "execution_count": null,
   "metadata": {},
   "outputs": [],
   "source": []
  }
 ],
 "metadata": {
  "kernelspec": {
   "display_name": "Python 3",
   "language": "python",
   "name": "python3"
  },
  "language_info": {
   "codemirror_mode": {
    "name": "ipython",
    "version": 3
   },
   "file_extension": ".py",
   "mimetype": "text/x-python",
   "name": "python",
   "nbconvert_exporter": "python",
   "pygments_lexer": "ipython3",
   "version": "3.7.1"
  }
 },
 "nbformat": 4,
 "nbformat_minor": 4
}
