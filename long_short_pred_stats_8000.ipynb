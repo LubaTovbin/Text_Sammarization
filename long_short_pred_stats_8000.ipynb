{
 "cells": [
  {
   "cell_type": "code",
   "execution_count": 2,
   "metadata": {},
   "outputs": [],
   "source": [
    "import statistics\n",
    "import matplotlib.pyplot as plt\n",
    "import pandas as pd"
   ]
  },
  {
   "cell_type": "code",
   "execution_count": 4,
   "metadata": {},
   "outputs": [],
   "source": [
    "file_input = open(r'C:\\Users\\Luba Tovbin\\Desktop\\MS_CMPE\\CMPE-295B\\CNN_user_pref\\8000_train_steps\\inputs-8000-.dev.txt',\n",
    "                        'r', encoding=\"mbcs\")\n",
    "file_pred = open(r'C:\\Users\\Luba Tovbin\\Desktop\\MS_CMPE\\CMPE-295B\\CNN_user_pref\\8000_train_steps\\predictions-8000-.dev.txt',\n",
    "                         'r', encoding=\"mbcs\")\n",
    "\n",
    "inputs = file_input.readlines()\n",
    "pred   = file_pred.readlines()\n",
    "\n",
    "file_input.close()\n",
    "file_pred.close()"
   ]
  },
  {
   "cell_type": "code",
   "execution_count": 5,
   "metadata": {},
   "outputs": [
    {
     "data": {
      "text/plain": [
       "'-----:0\\n'"
      ]
     },
     "execution_count": 5,
     "metadata": {},
     "output_type": "execute_result"
    }
   ],
   "source": [
    "inputs[0]"
   ]
  },
  {
   "cell_type": "code",
   "execution_count": 6,
   "metadata": {},
   "outputs": [],
   "source": [
    "text_in = []\n",
    "for line in inputs:\n",
    "    if line[0] != '-' and line[0] != '[':\n",
    "        line = line.strip('\\n')\n",
    "        text_in.append(line)"
   ]
  },
  {
   "cell_type": "code",
   "execution_count": 7,
   "metadata": {},
   "outputs": [
    {
     "data": {
      "text/plain": [
       "\"Long. A butcher whose countryside estate began running short of rabbits started selling squirrel - and the meat has proved so popular it sold out in three hours. Elveden Estate butchers in Suffolk is restricted to the numbers of rabbits it can shoot every month due to plummeting numbers and added the unusual delicacy to its menu in a bid to replace stocks. The free range squirrel is white in texture and is said to have a similar taste to rabbit while being low in fat. Elveden Estate butchers in Suffolk have added squirrel to their menu after their levels of rabbit starting running low. The unusual delicacy became so popular with customers it sold out in three hours . James Holliday, forestry and conservation manager at the estate, said: 'Rabbits are no longer breeding 'like rabbits'. 'Nationally, numbers have been in decline over the past few years and have now reached such low numbers we are limiting the number killed in order to maintain a sustainable population. 'The population had been decreasing since the 1950s and it has become increasingly important for us to conserve as many rabbits as possible. 'We have been catching the squirrels for a while now but obviously the reduction of rabbits made us think we could use them as a substitute and it has done very well.' The meat is being used in a variety of recipes by the estates customers, including a squirrel pasty (pictured) Richard Howard, food shop manager at the estate, said squirrel meat could be a healthy addition to diets. He said: 'Squirrel from Elveden is wild, nutritious and has virtually zero food miles, coming straight from the estate itself, making for a highly ethical mix.' The meat is being used in a variety of recipes by the estates customers, including a squirrel pasty.\""
      ]
     },
     "execution_count": 7,
     "metadata": {},
     "output_type": "execute_result"
    }
   ],
   "source": [
    "text_in[0]"
   ]
  },
  {
   "cell_type": "code",
   "execution_count": 8,
   "metadata": {},
   "outputs": [],
   "source": [
    "summaries = []\n",
    "for line in pred:\n",
    "    if line[0] != '-':\n",
    "        line = line.strip('\\n')\n",
    "        summaries.append(line)   "
   ]
  },
  {
   "cell_type": "code",
   "execution_count": 9,
   "metadata": {},
   "outputs": [
    {
     "data": {
      "text/plain": [
       "'Elveden Estate butchers in Suffolk have added squirrel to their menu . The free range squirrel is white in texture and is said to have a similar taste to rabbit while being low in fat . The unusual delicacy became so popular with customers it sold out in three hours .'"
      ]
     },
     "execution_count": 9,
     "metadata": {},
     "output_type": "execute_result"
    }
   ],
   "source": [
    "summaries[0]"
   ]
  },
  {
   "cell_type": "code",
   "execution_count": 10,
   "metadata": {},
   "outputs": [
    {
     "data": {
      "text/html": [
       "<div>\n",
       "<style scoped>\n",
       "    .dataframe tbody tr th:only-of-type {\n",
       "        vertical-align: middle;\n",
       "    }\n",
       "\n",
       "    .dataframe tbody tr th {\n",
       "        vertical-align: top;\n",
       "    }\n",
       "\n",
       "    .dataframe thead th {\n",
       "        text-align: right;\n",
       "    }\n",
       "</style>\n",
       "<table border=\"1\" class=\"dataframe\">\n",
       "  <thead>\n",
       "    <tr style=\"text-align: right;\">\n",
       "      <th></th>\n",
       "      <th>text</th>\n",
       "      <th>summary</th>\n",
       "    </tr>\n",
       "  </thead>\n",
       "  <tbody>\n",
       "    <tr>\n",
       "      <th>0</th>\n",
       "      <td>Long. A butcher whose countryside estate began...</td>\n",
       "      <td>Elveden Estate butchers in Suffolk have added ...</td>\n",
       "    </tr>\n",
       "    <tr>\n",
       "      <th>1</th>\n",
       "      <td>Short. Two drivers were injured when a massive...</td>\n",
       "      <td>15 of its 30 carriages derailed in the horrifi...</td>\n",
       "    </tr>\n",
       "    <tr>\n",
       "      <th>2</th>\n",
       "      <td>Long. GOP presidential candidates who flocked ...</td>\n",
       "      <td>The Des Moines, Iowa, event was Bruce Rastette...</td>\n",
       "    </tr>\n",
       "    <tr>\n",
       "      <th>3</th>\n",
       "      <td>Long. A man who found a travel partner after r...</td>\n",
       "      <td>John Whitbread, 32, advertised on eBay after h...</td>\n",
       "    </tr>\n",
       "    <tr>\n",
       "      <th>4</th>\n",
       "      <td>Long. 'Unacceptable': Lib Dem MP Jo Swinson ha...</td>\n",
       "      <td>Liberal Democrat MPs are pushing to bring into...</td>\n",
       "    </tr>\n",
       "  </tbody>\n",
       "</table>\n",
       "</div>"
      ],
      "text/plain": [
       "                                                text  \\\n",
       "0  Long. A butcher whose countryside estate began...   \n",
       "1  Short. Two drivers were injured when a massive...   \n",
       "2  Long. GOP presidential candidates who flocked ...   \n",
       "3  Long. A man who found a travel partner after r...   \n",
       "4  Long. 'Unacceptable': Lib Dem MP Jo Swinson ha...   \n",
       "\n",
       "                                             summary  \n",
       "0  Elveden Estate butchers in Suffolk have added ...  \n",
       "1  15 of its 30 carriages derailed in the horrifi...  \n",
       "2  The Des Moines, Iowa, event was Bruce Rastette...  \n",
       "3  John Whitbread, 32, advertised on eBay after h...  \n",
       "4  Liberal Democrat MPs are pushing to bring into...  "
      ]
     },
     "execution_count": 10,
     "metadata": {},
     "output_type": "execute_result"
    }
   ],
   "source": [
    "df = pd.DataFrame({'text':text_in, 'summary':summaries})\n",
    "df.head()"
   ]
  },
  {
   "cell_type": "code",
   "execution_count": 11,
   "metadata": {},
   "outputs": [
    {
     "name": "stdout",
     "output_type": "stream",
     "text": [
      "<class 'pandas.core.frame.DataFrame'>\n",
      "RangeIndex: 200 entries, 0 to 199\n",
      "Data columns (total 2 columns):\n",
      " #   Column   Non-Null Count  Dtype \n",
      "---  ------   --------------  ----- \n",
      " 0   text     200 non-null    object\n",
      " 1   summary  200 non-null    object\n",
      "dtypes: object(2)\n",
      "memory usage: 3.2+ KB\n"
     ]
    }
   ],
   "source": [
    "df.info()"
   ]
  },
  {
   "cell_type": "code",
   "execution_count": 12,
   "metadata": {},
   "outputs": [],
   "source": [
    "df['keyword']=df['text'].str.slice(0,5)\n",
    "df['text_len']= [ len(x.split(' ')) for x in df['text']]\n",
    "df['summ_len']= [ len(x.split(' ')) for x in df['summary']]"
   ]
  },
  {
   "cell_type": "code",
   "execution_count": 13,
   "metadata": {},
   "outputs": [
    {
     "data": {
      "text/html": [
       "<div>\n",
       "<style scoped>\n",
       "    .dataframe tbody tr th:only-of-type {\n",
       "        vertical-align: middle;\n",
       "    }\n",
       "\n",
       "    .dataframe tbody tr th {\n",
       "        vertical-align: top;\n",
       "    }\n",
       "\n",
       "    .dataframe thead th {\n",
       "        text-align: right;\n",
       "    }\n",
       "</style>\n",
       "<table border=\"1\" class=\"dataframe\">\n",
       "  <thead>\n",
       "    <tr style=\"text-align: right;\">\n",
       "      <th></th>\n",
       "      <th>text</th>\n",
       "      <th>summary</th>\n",
       "      <th>keyword</th>\n",
       "      <th>text_len</th>\n",
       "      <th>summ_len</th>\n",
       "    </tr>\n",
       "  </thead>\n",
       "  <tbody>\n",
       "    <tr>\n",
       "      <th>0</th>\n",
       "      <td>Long. A butcher whose countryside estate began...</td>\n",
       "      <td>Elveden Estate butchers in Suffolk have added ...</td>\n",
       "      <td>Long.</td>\n",
       "      <td>304</td>\n",
       "      <td>51</td>\n",
       "    </tr>\n",
       "    <tr>\n",
       "      <th>1</th>\n",
       "      <td>Short. Two drivers were injured when a massive...</td>\n",
       "      <td>15 of its 30 carriages derailed in the horrifi...</td>\n",
       "      <td>Short</td>\n",
       "      <td>369</td>\n",
       "      <td>25</td>\n",
       "    </tr>\n",
       "    <tr>\n",
       "      <th>2</th>\n",
       "      <td>Long. GOP presidential candidates who flocked ...</td>\n",
       "      <td>The Des Moines, Iowa, event was Bruce Rastette...</td>\n",
       "      <td>Long.</td>\n",
       "      <td>775</td>\n",
       "      <td>17</td>\n",
       "    </tr>\n",
       "    <tr>\n",
       "      <th>3</th>\n",
       "      <td>Long. A man who found a travel partner after r...</td>\n",
       "      <td>John Whitbread, 32, advertised on eBay after h...</td>\n",
       "      <td>Long.</td>\n",
       "      <td>842</td>\n",
       "      <td>70</td>\n",
       "    </tr>\n",
       "    <tr>\n",
       "      <th>4</th>\n",
       "      <td>Long. 'Unacceptable': Lib Dem MP Jo Swinson ha...</td>\n",
       "      <td>Liberal Democrat MPs are pushing to bring into...</td>\n",
       "      <td>Long.</td>\n",
       "      <td>701</td>\n",
       "      <td>74</td>\n",
       "    </tr>\n",
       "    <tr>\n",
       "      <th>5</th>\n",
       "      <td>Long. From a makeshift office in a mobile home...</td>\n",
       "      <td>Joanne Clayton sold data on 3,000 pensionersвЂ...</td>\n",
       "      <td>Long.</td>\n",
       "      <td>854</td>\n",
       "      <td>68</td>\n",
       "    </tr>\n",
       "    <tr>\n",
       "      <th>6</th>\n",
       "      <td>Short. Dundee United star Paul Paton has launc...</td>\n",
       "      <td>Dundee United star Paul Paton has launched an ...</td>\n",
       "      <td>Short</td>\n",
       "      <td>765</td>\n",
       "      <td>34</td>\n",
       "    </tr>\n",
       "    <tr>\n",
       "      <th>7</th>\n",
       "      <td>Long. Barcelona's players feature in a dramati...</td>\n",
       "      <td>Lionel Messi, Luis Suarez and Neymar arrive al...</td>\n",
       "      <td>Long.</td>\n",
       "      <td>389</td>\n",
       "      <td>61</td>\n",
       "    </tr>\n",
       "    <tr>\n",
       "      <th>8</th>\n",
       "      <td>Long. A teenager took pictures of a schoolgirl...</td>\n",
       "      <td>The alleged victim had just turned 16 when she...</td>\n",
       "      <td>Long.</td>\n",
       "      <td>595</td>\n",
       "      <td>39</td>\n",
       "    </tr>\n",
       "    <tr>\n",
       "      <th>9</th>\n",
       "      <td>Long. If recent pictures are anything to go by...</td>\n",
       "      <td>Taylor Swift and Calvin Harris are set to beco...</td>\n",
       "      <td>Long.</td>\n",
       "      <td>872</td>\n",
       "      <td>14</td>\n",
       "    </tr>\n",
       "    <tr>\n",
       "      <th>10</th>\n",
       "      <td>Short. An Iraq War veteran pleaded . guilty on...</td>\n",
       "      <td>Omar Gonzalez of Copperas cove, Texas, pleaded...</td>\n",
       "      <td>Short</td>\n",
       "      <td>567</td>\n",
       "      <td>60</td>\n",
       "    </tr>\n",
       "    <tr>\n",
       "      <th>11</th>\n",
       "      <td>Long. A man charged with beating his girlfrien...</td>\n",
       "      <td>Bryan Schwartz, 27, of Terrytown, New Orleans,...</td>\n",
       "      <td>Long.</td>\n",
       "      <td>220</td>\n",
       "      <td>44</td>\n",
       "    </tr>\n",
       "    <tr>\n",
       "      <th>12</th>\n",
       "      <td>Short. Ashley Barnes says that he has laughed ...</td>\n",
       "      <td>Ashley Barnes has laughed off allegations from...</td>\n",
       "      <td>Short</td>\n",
       "      <td>465</td>\n",
       "      <td>38</td>\n",
       "    </tr>\n",
       "    <tr>\n",
       "      <th>13</th>\n",
       "      <td>Long. Harry Kane has been named the Barclays P...</td>\n",
       "      <td>Harry Kane has been named the Barclays Premier...</td>\n",
       "      <td>Long.</td>\n",
       "      <td>484</td>\n",
       "      <td>63</td>\n",
       "    </tr>\n",
       "    <tr>\n",
       "      <th>14</th>\n",
       "      <td>Long. Rugby World Cup organisers are urging fa...</td>\n",
       "      <td>Rugby World Cup organisers have asked fans to ...</td>\n",
       "      <td>Long.</td>\n",
       "      <td>540</td>\n",
       "      <td>90</td>\n",
       "    </tr>\n",
       "    <tr>\n",
       "      <th>15</th>\n",
       "      <td>Long. Astronomers have captured four images of...</td>\n",
       "      <td>The galaxy and the galaxy cluster are acting l...</td>\n",
       "      <td>Long.</td>\n",
       "      <td>867</td>\n",
       "      <td>47</td>\n",
       "    </tr>\n",
       "    <tr>\n",
       "      <th>16</th>\n",
       "      <td>Short. The Premier League can easily accommoda...</td>\n",
       "      <td>Chairmen of English football's 20 elite clubs ...</td>\n",
       "      <td>Short</td>\n",
       "      <td>719</td>\n",
       "      <td>49</td>\n",
       "    </tr>\n",
       "    <tr>\n",
       "      <th>17</th>\n",
       "      <td>Short. For ski-lovers, there is nothing better...</td>\n",
       "      <td>Two competition winners will be able to bring ...</td>\n",
       "      <td>Short</td>\n",
       "      <td>694</td>\n",
       "      <td>32</td>\n",
       "    </tr>\n",
       "    <tr>\n",
       "      <th>18</th>\n",
       "      <td>Short. When nature calls in downtown Denver......</td>\n",
       "      <td>Denver residents are complaining over a lack o...</td>\n",
       "      <td>Short</td>\n",
       "      <td>391</td>\n",
       "      <td>34</td>\n",
       "    </tr>\n",
       "    <tr>\n",
       "      <th>19</th>\n",
       "      <td>Long. (CNN)The cost of college has rapidly inc...</td>\n",
       "      <td>Today's students often graduate with large deb...</td>\n",
       "      <td>Long.</td>\n",
       "      <td>842</td>\n",
       "      <td>19</td>\n",
       "    </tr>\n",
       "    <tr>\n",
       "      <th>20</th>\n",
       "      <td>Long. West Ham striker Carlton Cole has spoken...</td>\n",
       "      <td>Carlton Cole was fined ВЈ20,000 for tweeting a...</td>\n",
       "      <td>Long.</td>\n",
       "      <td>699</td>\n",
       "      <td>37</td>\n",
       "    </tr>\n",
       "    <tr>\n",
       "      <th>21</th>\n",
       "      <td>Short. (CNN)The only thing crazier than a guy ...</td>\n",
       "      <td>Kyle Waring will ship you 6 pounds of Boston-a...</td>\n",
       "      <td>Short</td>\n",
       "      <td>352</td>\n",
       "      <td>28</td>\n",
       "    </tr>\n",
       "    <tr>\n",
       "      <th>22</th>\n",
       "      <td>Short. A butcher whose countryside estate bega...</td>\n",
       "      <td>Elveden Estate butchers in Suffolk have added ...</td>\n",
       "      <td>Short</td>\n",
       "      <td>304</td>\n",
       "      <td>36</td>\n",
       "    </tr>\n",
       "    <tr>\n",
       "      <th>23</th>\n",
       "      <td>Short. We've all spent countless hours looking...</td>\n",
       "      <td>Laura Cody, 23, and Tanbay Theune, 26, have be...</td>\n",
       "      <td>Short</td>\n",
       "      <td>855</td>\n",
       "      <td>27</td>\n",
       "    </tr>\n",
       "    <tr>\n",
       "      <th>24</th>\n",
       "      <td>Long. We've all spent countless hours looking ...</td>\n",
       "      <td>Laura Cody, 23, and Tanbay Theune, 26, have ta...</td>\n",
       "      <td>Long.</td>\n",
       "      <td>855</td>\n",
       "      <td>57</td>\n",
       "    </tr>\n",
       "    <tr>\n",
       "      <th>25</th>\n",
       "      <td>Short. A man who found a travel partner after ...</td>\n",
       "      <td>John Whitbread, 32, advertised on eBay after h...</td>\n",
       "      <td>Short</td>\n",
       "      <td>842</td>\n",
       "      <td>47</td>\n",
       "    </tr>\n",
       "    <tr>\n",
       "      <th>26</th>\n",
       "      <td>Short. TV presenter Dr Michael Mosley will eat...</td>\n",
       "      <td>Dr Michael Mosley will take an in-depth look a...</td>\n",
       "      <td>Short</td>\n",
       "      <td>415</td>\n",
       "      <td>47</td>\n",
       "    </tr>\n",
       "    <tr>\n",
       "      <th>27</th>\n",
       "      <td>Short. British holidaymakers face three more y...</td>\n",
       "      <td>EU governments agreed that the roaming charges...</td>\n",
       "      <td>Short</td>\n",
       "      <td>402</td>\n",
       "      <td>44</td>\n",
       "    </tr>\n",
       "    <tr>\n",
       "      <th>28</th>\n",
       "      <td>Long. Arsenal need to challenge for the Premie...</td>\n",
       "      <td>Arsene Wenger has guided the Gunners to Champi...</td>\n",
       "      <td>Long.</td>\n",
       "      <td>368</td>\n",
       "      <td>56</td>\n",
       "    </tr>\n",
       "    <tr>\n",
       "      <th>29</th>\n",
       "      <td>Short. Matthew Cisneros, 13, was found dead at...</td>\n",
       "      <td>Matthew Cisneros, 13, was found dead at his ho...</td>\n",
       "      <td>Short</td>\n",
       "      <td>261</td>\n",
       "      <td>16</td>\n",
       "    </tr>\n",
       "  </tbody>\n",
       "</table>\n",
       "</div>"
      ],
      "text/plain": [
       "                                                 text  \\\n",
       "0   Long. A butcher whose countryside estate began...   \n",
       "1   Short. Two drivers were injured when a massive...   \n",
       "2   Long. GOP presidential candidates who flocked ...   \n",
       "3   Long. A man who found a travel partner after r...   \n",
       "4   Long. 'Unacceptable': Lib Dem MP Jo Swinson ha...   \n",
       "5   Long. From a makeshift office in a mobile home...   \n",
       "6   Short. Dundee United star Paul Paton has launc...   \n",
       "7   Long. Barcelona's players feature in a dramati...   \n",
       "8   Long. A teenager took pictures of a schoolgirl...   \n",
       "9   Long. If recent pictures are anything to go by...   \n",
       "10  Short. An Iraq War veteran pleaded . guilty on...   \n",
       "11  Long. A man charged with beating his girlfrien...   \n",
       "12  Short. Ashley Barnes says that he has laughed ...   \n",
       "13  Long. Harry Kane has been named the Barclays P...   \n",
       "14  Long. Rugby World Cup organisers are urging fa...   \n",
       "15  Long. Astronomers have captured four images of...   \n",
       "16  Short. The Premier League can easily accommoda...   \n",
       "17  Short. For ski-lovers, there is nothing better...   \n",
       "18  Short. When nature calls in downtown Denver......   \n",
       "19  Long. (CNN)The cost of college has rapidly inc...   \n",
       "20  Long. West Ham striker Carlton Cole has spoken...   \n",
       "21  Short. (CNN)The only thing crazier than a guy ...   \n",
       "22  Short. A butcher whose countryside estate bega...   \n",
       "23  Short. We've all spent countless hours looking...   \n",
       "24  Long. We've all spent countless hours looking ...   \n",
       "25  Short. A man who found a travel partner after ...   \n",
       "26  Short. TV presenter Dr Michael Mosley will eat...   \n",
       "27  Short. British holidaymakers face three more y...   \n",
       "28  Long. Arsenal need to challenge for the Premie...   \n",
       "29  Short. Matthew Cisneros, 13, was found dead at...   \n",
       "\n",
       "                                              summary keyword  text_len  \\\n",
       "0   Elveden Estate butchers in Suffolk have added ...   Long.       304   \n",
       "1   15 of its 30 carriages derailed in the horrifi...   Short       369   \n",
       "2   The Des Moines, Iowa, event was Bruce Rastette...   Long.       775   \n",
       "3   John Whitbread, 32, advertised on eBay after h...   Long.       842   \n",
       "4   Liberal Democrat MPs are pushing to bring into...   Long.       701   \n",
       "5   Joanne Clayton sold data on 3,000 pensionersвЂ...   Long.       854   \n",
       "6   Dundee United star Paul Paton has launched an ...   Short       765   \n",
       "7   Lionel Messi, Luis Suarez and Neymar arrive al...   Long.       389   \n",
       "8   The alleged victim had just turned 16 when she...   Long.       595   \n",
       "9   Taylor Swift and Calvin Harris are set to beco...   Long.       872   \n",
       "10  Omar Gonzalez of Copperas cove, Texas, pleaded...   Short       567   \n",
       "11  Bryan Schwartz, 27, of Terrytown, New Orleans,...   Long.       220   \n",
       "12  Ashley Barnes has laughed off allegations from...   Short       465   \n",
       "13  Harry Kane has been named the Barclays Premier...   Long.       484   \n",
       "14  Rugby World Cup organisers have asked fans to ...   Long.       540   \n",
       "15  The galaxy and the galaxy cluster are acting l...   Long.       867   \n",
       "16  Chairmen of English football's 20 elite clubs ...   Short       719   \n",
       "17  Two competition winners will be able to bring ...   Short       694   \n",
       "18  Denver residents are complaining over a lack o...   Short       391   \n",
       "19  Today's students often graduate with large deb...   Long.       842   \n",
       "20  Carlton Cole was fined ВЈ20,000 for tweeting a...   Long.       699   \n",
       "21  Kyle Waring will ship you 6 pounds of Boston-a...   Short       352   \n",
       "22  Elveden Estate butchers in Suffolk have added ...   Short       304   \n",
       "23  Laura Cody, 23, and Tanbay Theune, 26, have be...   Short       855   \n",
       "24  Laura Cody, 23, and Tanbay Theune, 26, have ta...   Long.       855   \n",
       "25  John Whitbread, 32, advertised on eBay after h...   Short       842   \n",
       "26  Dr Michael Mosley will take an in-depth look a...   Short       415   \n",
       "27  EU governments agreed that the roaming charges...   Short       402   \n",
       "28  Arsene Wenger has guided the Gunners to Champi...   Long.       368   \n",
       "29  Matthew Cisneros, 13, was found dead at his ho...   Short       261   \n",
       "\n",
       "    summ_len  \n",
       "0         51  \n",
       "1         25  \n",
       "2         17  \n",
       "3         70  \n",
       "4         74  \n",
       "5         68  \n",
       "6         34  \n",
       "7         61  \n",
       "8         39  \n",
       "9         14  \n",
       "10        60  \n",
       "11        44  \n",
       "12        38  \n",
       "13        63  \n",
       "14        90  \n",
       "15        47  \n",
       "16        49  \n",
       "17        32  \n",
       "18        34  \n",
       "19        19  \n",
       "20        37  \n",
       "21        28  \n",
       "22        36  \n",
       "23        27  \n",
       "24        57  \n",
       "25        47  \n",
       "26        47  \n",
       "27        44  \n",
       "28        56  \n",
       "29        16  "
      ]
     },
     "execution_count": 13,
     "metadata": {},
     "output_type": "execute_result"
    }
   ],
   "source": [
    "df[:30]"
   ]
  },
  {
   "cell_type": "code",
   "execution_count": 14,
   "metadata": {},
   "outputs": [
    {
     "data": {
      "text/plain": [
       "Long.    100\n",
       "Short    100\n",
       "Name: keyword, dtype: int64"
      ]
     },
     "execution_count": 14,
     "metadata": {},
     "output_type": "execute_result"
    }
   ],
   "source": [
    "df['keyword'].value_counts()"
   ]
  },
  {
   "cell_type": "code",
   "execution_count": 15,
   "metadata": {},
   "outputs": [
    {
     "data": {
      "text/plain": [
       "(array([10., 14., 20., 12., 26., 16.,  2., 18., 22., 60.]),\n",
       " array([184. , 253.6, 323.2, 392.8, 462.4, 532. , 601.6, 671.2, 740.8,\n",
       "        810.4, 880. ]),\n",
       " <BarContainer object of 10 artists>)"
      ]
     },
     "execution_count": 15,
     "metadata": {},
     "output_type": "execute_result"
    },
    {
     "data": {
      "image/png": "[encoded data removed]",
      "text/plain": [
       "<Figure size 432x288 with 1 Axes>"
      ]
     },
     "metadata": {
      "needs_background": "light"
     },
     "output_type": "display_data"
    }
   ],
   "source": [
    "plt.hist(df['text_len'])"
   ]
  },
  {
   "cell_type": "code",
   "execution_count": 16,
   "metadata": {},
   "outputs": [
    {
     "data": {
      "text/plain": [
       "keyword\n",
       "Long.    49.68\n",
       "Short    35.35\n",
       "Name: summ_len, dtype: float64"
      ]
     },
     "execution_count": 16,
     "metadata": {},
     "output_type": "execute_result"
    }
   ],
   "source": [
    "df.groupby(['keyword']).mean()['summ_len']"
   ]
  },
  {
   "cell_type": "code",
   "execution_count": 17,
   "metadata": {},
   "outputs": [],
   "source": [
    "df_long  = df[df['keyword']=='Long.']\n",
    "df_short = df[df['keyword']=='Short']"
   ]
  },
  {
   "cell_type": "code",
   "execution_count": 18,
   "metadata": {},
   "outputs": [
    {
     "data": {
      "text/plain": [
       "Long.    100\n",
       "Name: keyword, dtype: int64"
      ]
     },
     "execution_count": 18,
     "metadata": {},
     "output_type": "execute_result"
    }
   ],
   "source": [
    "df_long['keyword'].value_counts()"
   ]
  },
  {
   "cell_type": "code",
   "execution_count": 19,
   "metadata": {},
   "outputs": [
    {
     "data": {
      "text/plain": [
       "Short    100\n",
       "Name: keyword, dtype: int64"
      ]
     },
     "execution_count": 19,
     "metadata": {},
     "output_type": "execute_result"
    }
   ],
   "source": [
    "df_short['keyword'].value_counts()"
   ]
  },
  {
   "cell_type": "code",
   "execution_count": 20,
   "metadata": {},
   "outputs": [
    {
     "data": {
      "text/plain": [
       "49.68"
      ]
     },
     "execution_count": 20,
     "metadata": {},
     "output_type": "execute_result"
    }
   ],
   "source": [
    "df_long['summ_len'].mean()"
   ]
  },
  {
   "cell_type": "code",
   "execution_count": 21,
   "metadata": {},
   "outputs": [
    {
     "data": {
      "text/plain": [
       "35.35"
      ]
     },
     "execution_count": 21,
     "metadata": {},
     "output_type": "execute_result"
    }
   ],
   "source": [
    "df_short['summ_len'].mean()"
   ]
  },
  {
   "cell_type": "code",
   "execution_count": 79,
   "metadata": {},
   "outputs": [
    {
     "data": {
      "image/png": "[encoded data removed]",
      "text/plain": [
       "<Figure size 1440x576 with 3 Axes>"
      ]
     },
     "metadata": {
      "needs_background": "light"
     },
     "output_type": "display_data"
    }
   ],
   "source": [
    "fig = plt.figure(figsize=(20,8))\n",
    "gs = fig.add_gridspec(2, 2)\n",
    "ax1 = fig.add_subplot(gs[:,0])\n",
    "ax2 = fig.add_subplot(gs[0,1])\n",
    "ax3 = fig.add_subplot(gs[1,1])\n",
    "\n",
    "ax1.grid()\n",
    "ax2.grid()\n",
    "ax3.grid()\n",
    "\n",
    "ax1.hist(df_long['summ_len'], label='Long')\n",
    "ax1.hist(df_short['summ_len'], label='Short')\n",
    "ax1.set_title('Lengths Distributions for Long and Short Summaries',fontsize=18)\n",
    "ax1.legend(fontsize=16)\n",
    "\n",
    "ax2.boxplot(df_long['summ_len'], vert=False,)\n",
    "ax2.set_title('Box Plot for Long Summaries',fontsize=18)\n",
    "\n",
    "ax3.boxplot(df_short['summ_len'],vert=False,)\n",
    "ax3.set_title('Box Plot for Short Summaries',fontsize=18)\n",
    "\n",
    "for tick in ax1.xaxis.get_major_ticks(): tick.label.set_fontsize(14)\n",
    "for tick in ax2.xaxis.get_major_ticks(): tick.label.set_fontsize(14) \n",
    "for tick in ax3.xaxis.get_major_ticks(): tick.label.set_fontsize(14)\n",
    "    \n",
    "for tick in ax1.yaxis.get_major_ticks(): tick.label.set_fontsize(14)\n",
    "for tick in ax2.yaxis.get_major_ticks(): tick.label.set_fontsize(14) \n",
    "for tick in ax3.yaxis.get_major_ticks(): tick.label.set_fontsize(14) \n",
    "\n",
    "ax1.set_xlim(10,120)\n",
    "ax2.set_xlim(10,120)\n",
    "ax3.set_xlim(10,120)\n",
    "\n",
    "plt.tight_layout()"
   ]
  },
  {
   "cell_type": "code",
   "execution_count": 24,
   "metadata": {},
   "outputs": [],
   "source": [
    "from scipy import stats"
   ]
  },
  {
   "cell_type": "code",
   "execution_count": 25,
   "metadata": {},
   "outputs": [
    {
     "data": {
      "text/plain": [
       "Ttest_indResult(statistic=6.791259646834926, pvalue=1.5454691585841512e-10)"
      ]
     },
     "execution_count": 25,
     "metadata": {},
     "output_type": "execute_result"
    }
   ],
   "source": [
    "stats.ttest_ind(df_long['summ_len'], df_short['summ_len'], equal_var=False)"
   ]
  },
  {
   "cell_type": "code",
   "execution_count": 28,
   "metadata": {},
   "outputs": [],
   "source": [
    "import seaborn as sbs"
   ]
  },
  {
   "cell_type": "code",
   "execution_count": null,
   "metadata": {},
   "outputs": [],
   "source": []
  }
 ],
 "metadata": {
  "kernelspec": {
   "display_name": "Python 3",
   "language": "python",
   "name": "python3"
  },
  "language_info": {
   "codemirror_mode": {
    "name": "ipython",
    "version": 3
   },
   "file_extension": ".py",
   "mimetype": "text/x-python",
   "name": "python",
   "nbconvert_exporter": "python",
   "pygments_lexer": "ipython3",
   "version": "3.7.1"
  }
 },
 "nbformat": 4,
 "nbformat_minor": 4
}
